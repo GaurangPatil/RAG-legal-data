{
 "cells": [
  {
   "cell_type": "code",
   "execution_count": 1,
   "id": "36817568",
   "metadata": {
    "scrolled": true
   },
   "outputs": [
    {
     "name": "stdout",
     "output_type": "stream",
     "text": [
      "Collecting llama-index\n",
      "  Downloading llama_index-0.10.17-py3-none-any.whl (5.6 kB)\n",
      "Collecting llama-index-agent-openai<0.2.0,>=0.1.4 (from llama-index)\n",
      "  Downloading llama_index_agent_openai-0.1.5-py3-none-any.whl (12 kB)\n",
      "Collecting llama-index-cli<0.2.0,>=0.1.2 (from llama-index)\n",
      "  Downloading llama_index_cli-0.1.8-py3-none-any.whl (25 kB)\n",
      "Collecting llama-index-core<0.11.0,>=0.10.17 (from llama-index)\n",
      "  Downloading llama_index_core-0.10.17-py3-none-any.whl (15.3 MB)\n",
      "\u001b[2K     \u001b[38;2;114;156;31m━━━━━━━━━━━━━━━━━━━━━━━━━━━━━━━━━━━━━━━━\u001b[0m \u001b[32m15.3/15.3 MB\u001b[0m \u001b[31m47.4 kB/s\u001b[0m eta \u001b[36m0:00:00\u001b[0mm eta \u001b[36m0:00:01\u001b[0m[36m0:00:09\u001b[0m\n",
      "\u001b[?25hCollecting llama-index-embeddings-openai<0.2.0,>=0.1.5 (from llama-index)\n",
      "  Downloading llama_index_embeddings_openai-0.1.6-py3-none-any.whl (6.0 kB)\n",
      "Collecting llama-index-indices-managed-llama-cloud<0.2.0,>=0.1.2 (from llama-index)\n",
      "  Downloading llama_index_indices_managed_llama_cloud-0.1.3-py3-none-any.whl (6.6 kB)\n",
      "Collecting llama-index-legacy<0.10.0,>=0.9.48 (from llama-index)\n",
      "  Downloading llama_index_legacy-0.9.48-py3-none-any.whl (2.0 MB)\n",
      "\u001b[2K     \u001b[38;2;114;156;31m━━━━━━━━━━━━━━━━━━━━━━━━━━━━━━━━━━━━━━━━\u001b[0m \u001b[32m2.0/2.0 MB\u001b[0m \u001b[31m60.1 kB/s\u001b[0m eta \u001b[36m0:00:00\u001b[0mm eta \u001b[36m0:00:01\u001b[0m[36m0:00:02\u001b[0m\n",
      "\u001b[?25hCollecting llama-index-llms-openai<0.2.0,>=0.1.5 (from llama-index)\n",
      "  Downloading llama_index_llms_openai-0.1.7-py3-none-any.whl (9.3 kB)\n",
      "Collecting llama-index-multi-modal-llms-openai<0.2.0,>=0.1.3 (from llama-index)\n",
      "  Downloading llama_index_multi_modal_llms_openai-0.1.4-py3-none-any.whl (5.8 kB)\n",
      "Collecting llama-index-program-openai<0.2.0,>=0.1.3 (from llama-index)\n",
      "  Downloading llama_index_program_openai-0.1.4-py3-none-any.whl (4.1 kB)\n",
      "Collecting llama-index-question-gen-openai<0.2.0,>=0.1.2 (from llama-index)\n",
      "  Downloading llama_index_question_gen_openai-0.1.3-py3-none-any.whl (2.9 kB)\n",
      "Collecting llama-index-readers-file<0.2.0,>=0.1.4 (from llama-index)\n",
      "  Downloading llama_index_readers_file-0.1.8-py3-none-any.whl (34 kB)\n",
      "Collecting llama-index-readers-llama-parse<0.2.0,>=0.1.2 (from llama-index)\n",
      "  Downloading llama_index_readers_llama_parse-0.1.3-py3-none-any.whl (2.5 kB)\n",
      "Collecting llama-index-vector-stores-chroma<0.2.0,>=0.1.1 (from llama-index-cli<0.2.0,>=0.1.2->llama-index)\n",
      "  Downloading llama_index_vector_stores_chroma-0.1.5-py3-none-any.whl (4.7 kB)\n",
      "Collecting PyYAML>=6.0.1 (from llama-index-core<0.11.0,>=0.10.17->llama-index)\n",
      "  Downloading PyYAML-6.0.1-cp311-cp311-manylinux_2_17_x86_64.manylinux2014_x86_64.whl (757 kB)\n",
      "\u001b[2K     \u001b[38;2;114;156;31m━━━━━━━━━━━━━━━━━━━━━━━━━━━━━━━━━━━━━━\u001b[0m \u001b[32m757.7/757.7 kB\u001b[0m \u001b[31m59.8 kB/s\u001b[0m eta \u001b[36m0:00:00\u001b[0m[36m0:00:01\u001b[0mm eta \u001b[36m0:00:01\u001b[0m\n",
      "\u001b[?25hCollecting SQLAlchemy[asyncio]>=1.4.49 (from llama-index-core<0.11.0,>=0.10.17->llama-index)\n",
      "  Downloading SQLAlchemy-2.0.28-cp311-cp311-manylinux_2_17_x86_64.manylinux2014_x86_64.whl (3.2 MB)\n",
      "\u001b[2K     \u001b[38;2;114;156;31m━━━━━━━━━━━━━━━━━━━━━━━━━━━━━━━━━━━━━━━━\u001b[0m \u001b[32m3.2/3.2 MB\u001b[0m \u001b[31m80.1 kB/s\u001b[0m eta \u001b[36m0:00:00\u001b[0mm eta \u001b[36m0:00:01\u001b[0m[36m0:00:02\u001b[0m\n",
      "\u001b[?25hCollecting aiohttp<4.0.0,>=3.8.6 (from llama-index-core<0.11.0,>=0.10.17->llama-index)\n",
      "  Downloading aiohttp-3.9.3-cp311-cp311-manylinux_2_17_x86_64.manylinux2014_x86_64.whl (1.3 MB)\n",
      "\u001b[2K     \u001b[38;2;114;156;31m━━━━━━━━━━━━━━━━━━━━━━━━━━━━━━━━━━━━━━━━\u001b[0m \u001b[32m1.3/1.3 MB\u001b[0m \u001b[31m103.1 kB/s\u001b[0m eta \u001b[36m0:00:00\u001b[0mm eta \u001b[36m0:00:01\u001b[0m[36m0:00:01\u001b[0m\n",
      "\u001b[?25hCollecting dataclasses-json (from llama-index-core<0.11.0,>=0.10.17->llama-index)\n",
      "  Downloading dataclasses_json-0.6.4-py3-none-any.whl (28 kB)\n",
      "Collecting deprecated>=1.2.9.3 (from llama-index-core<0.11.0,>=0.10.17->llama-index)\n",
      "  Downloading Deprecated-1.2.14-py2.py3-none-any.whl (9.6 kB)\n",
      "Collecting dirtyjson<2.0.0,>=1.0.8 (from llama-index-core<0.11.0,>=0.10.17->llama-index)\n",
      "  Downloading dirtyjson-1.0.8-py3-none-any.whl (25 kB)\n",
      "Collecting fsspec>=2023.5.0 (from llama-index-core<0.11.0,>=0.10.17->llama-index)\n",
      "  Downloading fsspec-2024.2.0-py3-none-any.whl (170 kB)\n",
      "\u001b[2K     \u001b[38;2;114;156;31m━━━━━━━━━━━━━━━━━━━━━━━━━━━━━━━━━━━━━\u001b[0m \u001b[32m170.9/170.9 kB\u001b[0m \u001b[31m128.4 kB/s\u001b[0m eta \u001b[36m0:00:00\u001b[0m kB/s\u001b[0m eta \u001b[36m0:00:01\u001b[0m:01\u001b[0m\n",
      "\u001b[?25hCollecting httpx (from llama-index-core<0.11.0,>=0.10.17->llama-index)\n",
      "  Downloading httpx-0.27.0-py3-none-any.whl (75 kB)\n",
      "\u001b[2K     \u001b[38;2;114;156;31m━━━━━━━━━━━━━━━━━━━━━━━━━━━━━━━━━━━━━━━\u001b[0m \u001b[32m75.6/75.6 kB\u001b[0m \u001b[31m129.8 kB/s\u001b[0m eta \u001b[36m0:00:00\u001b[0m1m126.4 kB/s\u001b[0m eta \u001b[36m0:00:01\u001b[0m\n",
      "\u001b[?25hCollecting llamaindex-py-client<0.2.0,>=0.1.13 (from llama-index-core<0.11.0,>=0.10.17->llama-index)\n",
      "  Downloading llamaindex_py_client-0.1.13-py3-none-any.whl (107 kB)\n",
      "\u001b[2K     \u001b[38;2;114;156;31m━━━━━━━━━━━━━━━━━━━━━━━━━━━━━━━━━━━━━━\u001b[0m \u001b[32m108.0/108.0 kB\u001b[0m \u001b[31m83.5 kB/s\u001b[0m eta \u001b[36m0:00:00\u001b[0m31m90.4 kB/s\u001b[0m eta \u001b[36m0:00:01\u001b[0m\n",
      "\u001b[?25hCollecting nest-asyncio<2.0.0,>=1.5.8 (from llama-index-core<0.11.0,>=0.10.17->llama-index)\n",
      "  Downloading nest_asyncio-1.6.0-py3-none-any.whl (5.2 kB)\n",
      "Collecting networkx>=3.0 (from llama-index-core<0.11.0,>=0.10.17->llama-index)\n",
      "  Downloading networkx-3.2.1-py3-none-any.whl (1.6 MB)\n",
      "\u001b[2K     \u001b[38;2;114;156;31m━━━━━━━━━━━━━━━━━━━━━━━━━━━━━━━━━━━━━━━━\u001b[0m \u001b[32m1.6/1.6 MB\u001b[0m \u001b[31m105.4 kB/s\u001b[0m eta \u001b[36m0:00:00\u001b[0mm eta \u001b[36m0:00:01\u001b[0m[36m0:00:01\u001b[0m\n",
      "\u001b[?25hCollecting nltk<4.0.0,>=3.8.1 (from llama-index-core<0.11.0,>=0.10.17->llama-index)\n",
      "  Downloading nltk-3.8.1-py3-none-any.whl (1.5 MB)\n",
      "\u001b[2K     \u001b[38;2;114;156;31m━━━━━━━━━━━━━━━━━━━━━━━━━━━━━━━━━━━━━━━━\u001b[0m \u001b[32m1.5/1.5 MB\u001b[0m \u001b[31m122.2 kB/s\u001b[0m eta \u001b[36m0:00:00\u001b[0mm eta \u001b[36m0:00:01\u001b[0m[36m0:00:01\u001b[0m\n",
      "\u001b[?25hRequirement already satisfied: numpy in /home/gaurang/anaconda3/lib/python3.11/site-packages (from llama-index-core<0.11.0,>=0.10.17->llama-index) (1.24.3)\n",
      "Collecting openai>=1.1.0 (from llama-index-core<0.11.0,>=0.10.17->llama-index)\n",
      "  Downloading openai-1.13.3-py3-none-any.whl (227 kB)\n",
      "\u001b[2K     \u001b[38;2;114;156;31m━━━━━━━━━━━━━━━━━━━━━━━━━━━━━━━━━━━━━\u001b[0m \u001b[32m227.4/227.4 kB\u001b[0m \u001b[31m231.1 kB/s\u001b[0m eta \u001b[36m0:00:00\u001b[0mm eta \u001b[36m0:00:01\u001b[0m0:01\u001b[0m:01\u001b[0m\n",
      "\u001b[?25hRequirement already satisfied: pandas in /home/gaurang/anaconda3/lib/python3.11/site-packages (from llama-index-core<0.11.0,>=0.10.17->llama-index) (1.5.3)\n",
      "Requirement already satisfied: pillow>=9.0.0 in /home/gaurang/anaconda3/lib/python3.11/site-packages (from llama-index-core<0.11.0,>=0.10.17->llama-index) (9.4.0)\n",
      "Collecting requests>=2.31.0 (from llama-index-core<0.11.0,>=0.10.17->llama-index)\n",
      "  Downloading requests-2.31.0-py3-none-any.whl (62 kB)\n",
      "\u001b[2K     \u001b[38;2;114;156;31m━━━━━━━━━━━━━━━━━━━━━━━━━━━━━━━━━━━━━━━\u001b[0m \u001b[32m62.6/62.6 kB\u001b[0m \u001b[31m150.1 kB/s\u001b[0m eta \u001b[36m0:00:00\u001b[0m[36m0:00:01\u001b[0mm eta \u001b[36m0:00:01\u001b[0m\n",
      "\u001b[?25hRequirement already satisfied: tenacity<9.0.0,>=8.2.0 in /home/gaurang/anaconda3/lib/python3.11/site-packages (from llama-index-core<0.11.0,>=0.10.17->llama-index) (8.2.2)\n",
      "Collecting tiktoken>=0.3.3 (from llama-index-core<0.11.0,>=0.10.17->llama-index)\n",
      "  Downloading tiktoken-0.6.0-cp311-cp311-manylinux_2_17_x86_64.manylinux2014_x86_64.whl (1.8 MB)\n",
      "\u001b[2K     \u001b[38;2;114;156;31m━━━━━━━━━━━━━━━━━━━━━━━━━━━━━━━━━━━━━━━━\u001b[0m \u001b[32m1.8/1.8 MB\u001b[0m \u001b[31m132.1 kB/s\u001b[0m eta \u001b[36m0:00:00\u001b[0mm eta \u001b[36m0:00:01\u001b[0m[36m0:00:01\u001b[0m\n",
      "\u001b[?25hCollecting tqdm<5.0.0,>=4.66.1 (from llama-index-core<0.11.0,>=0.10.17->llama-index)\n",
      "  Downloading tqdm-4.66.2-py3-none-any.whl (78 kB)\n",
      "\u001b[2K     \u001b[38;2;114;156;31m━━━━━━━━━━━━━━━━━━━━━━━━━━━━━━━━━━━━━━━\u001b[0m \u001b[32m78.3/78.3 kB\u001b[0m \u001b[31m240.9 kB/s\u001b[0m eta \u001b[36m0:00:00\u001b[0m1m251.7 kB/s\u001b[0m eta \u001b[36m0:00:01\u001b[0m\n",
      "\u001b[?25hRequirement already satisfied: typing-extensions>=4.5.0 in /home/gaurang/anaconda3/lib/python3.11/site-packages (from llama-index-core<0.11.0,>=0.10.17->llama-index) (4.6.3)\n",
      "Collecting typing-inspect>=0.8.0 (from llama-index-core<0.11.0,>=0.10.17->llama-index)\n",
      "  Downloading typing_inspect-0.9.0-py3-none-any.whl (8.8 kB)\n",
      "Collecting beautifulsoup4<5.0.0,>=4.12.3 (from llama-index-readers-file<0.2.0,>=0.1.4->llama-index)\n",
      "  Downloading beautifulsoup4-4.12.3-py3-none-any.whl (147 kB)\n",
      "\u001b[2K     \u001b[38;2;114;156;31m━━━━━━━━━━━━━━━━━━━━━━━━━━━━━━━━━━━━━\u001b[0m \u001b[32m147.9/147.9 kB\u001b[0m \u001b[31m244.0 kB/s\u001b[0m eta \u001b[36m0:00:00\u001b[0m1m243.6 kB/s\u001b[0m eta \u001b[36m0:00:01\u001b[0m\n"
     ]
    },
    {
     "name": "stdout",
     "output_type": "stream",
     "text": [
      "\u001b[?25hCollecting bs4<0.0.3,>=0.0.2 (from llama-index-readers-file<0.2.0,>=0.1.4->llama-index)\n",
      "  Downloading bs4-0.0.2-py2.py3-none-any.whl (1.2 kB)\n",
      "Collecting pymupdf<2.0.0,>=1.23.21 (from llama-index-readers-file<0.2.0,>=0.1.4->llama-index)\n",
      "  Downloading PyMuPDF-1.23.26-cp311-none-manylinux2014_x86_64.whl (4.4 MB)\n",
      "\u001b[2K     \u001b[38;2;114;156;31m━━━━━━━━━━━━━━━━━━━━━━━━━━━━━━━━━━━━━━━━\u001b[0m \u001b[32m4.4/4.4 MB\u001b[0m \u001b[31m124.8 kB/s\u001b[0m eta \u001b[36m0:00:00\u001b[0mm eta \u001b[36m0:00:01\u001b[0m[36m0:00:01\u001b[0m\n",
      "\u001b[?25hCollecting pypdf<5.0.0,>=4.0.1 (from llama-index-readers-file<0.2.0,>=0.1.4->llama-index)\n",
      "  Downloading pypdf-4.1.0-py3-none-any.whl (286 kB)\n",
      "\u001b[2K     \u001b[38;2;114;156;31m━━━━━━━━━━━━━━━━━━━━━━━━━━━━━━━━━━━━━\u001b[0m \u001b[32m286.1/286.1 kB\u001b[0m \u001b[31m190.1 kB/s\u001b[0m eta \u001b[36m0:00:00\u001b[0m1m200.3 kB/s\u001b[0m eta \u001b[36m0:00:01\u001b[0m\n",
      "\u001b[?25hCollecting llama-parse<0.4.0,>=0.3.3 (from llama-index-readers-llama-parse<0.2.0,>=0.1.2->llama-index)\n",
      "  Downloading llama_parse-0.3.7-py3-none-any.whl (8.2 kB)\n",
      "Requirement already satisfied: aiosignal>=1.1.2 in /home/gaurang/anaconda3/lib/python3.11/site-packages (from aiohttp<4.0.0,>=3.8.6->llama-index-core<0.11.0,>=0.10.17->llama-index) (1.2.0)\n",
      "Requirement already satisfied: attrs>=17.3.0 in /home/gaurang/anaconda3/lib/python3.11/site-packages (from aiohttp<4.0.0,>=3.8.6->llama-index-core<0.11.0,>=0.10.17->llama-index) (22.1.0)\n",
      "Requirement already satisfied: frozenlist>=1.1.1 in /home/gaurang/anaconda3/lib/python3.11/site-packages (from aiohttp<4.0.0,>=3.8.6->llama-index-core<0.11.0,>=0.10.17->llama-index) (1.3.3)\n",
      "Requirement already satisfied: multidict<7.0,>=4.5 in /home/gaurang/anaconda3/lib/python3.11/site-packages (from aiohttp<4.0.0,>=3.8.6->llama-index-core<0.11.0,>=0.10.17->llama-index) (6.0.2)\n",
      "Requirement already satisfied: yarl<2.0,>=1.0 in /home/gaurang/anaconda3/lib/python3.11/site-packages (from aiohttp<4.0.0,>=3.8.6->llama-index-core<0.11.0,>=0.10.17->llama-index) (1.8.1)\n",
      "Requirement already satisfied: soupsieve>1.2 in /home/gaurang/anaconda3/lib/python3.11/site-packages (from beautifulsoup4<5.0.0,>=4.12.3->llama-index-readers-file<0.2.0,>=0.1.4->llama-index) (2.4)\n",
      "Requirement already satisfied: wrapt<2,>=1.10 in /home/gaurang/anaconda3/lib/python3.11/site-packages (from deprecated>=1.2.9.3->llama-index-core<0.11.0,>=0.10.17->llama-index) (1.14.1)\n",
      "Collecting chromadb<0.5.0,>=0.4.22 (from llama-index-vector-stores-chroma<0.2.0,>=0.1.1->llama-index-cli<0.2.0,>=0.1.2->llama-index)\n",
      "  Downloading chromadb-0.4.24-py3-none-any.whl (525 kB)\n",
      "\u001b[2K     \u001b[38;2;114;156;31m━━━━━━━━━━━━━━━━━━━━━━━━━━━━━━━━━━━━━━\u001b[0m \u001b[32m525.5/525.5 kB\u001b[0m \u001b[31m84.3 kB/s\u001b[0m eta \u001b[36m0:00:00\u001b[0m[36m0:00:01\u001b[0mm eta \u001b[36m0:00:01\u001b[0m\n",
      "\u001b[?25hCollecting onnxruntime<2.0.0,>=1.17.0 (from llama-index-vector-stores-chroma<0.2.0,>=0.1.1->llama-index-cli<0.2.0,>=0.1.2->llama-index)\n",
      "  Downloading onnxruntime-1.17.1-cp311-cp311-manylinux_2_27_x86_64.manylinux_2_28_x86_64.whl (6.8 MB)\n",
      "\u001b[2K     \u001b[38;2;114;156;31m━━━━━━━━━━━━━━━━━━━━━━━━━━━━━━━━━━━━━━━━\u001b[0m \u001b[32m6.8/6.8 MB\u001b[0m \u001b[31m81.6 kB/s\u001b[0m eta \u001b[36m0:00:00\u001b[0mm eta \u001b[36m0:00:01\u001b[0m[36m0:00:03\u001b[0mm\n",
      "\u001b[?25hCollecting tokenizers<0.16.0,>=0.15.1 (from llama-index-vector-stores-chroma<0.2.0,>=0.1.1->llama-index-cli<0.2.0,>=0.1.2->llama-index)\n",
      "  Downloading tokenizers-0.15.2-cp311-cp311-manylinux_2_17_x86_64.manylinux2014_x86_64.whl (3.6 MB)\n",
      "\u001b[2K     \u001b[38;2;114;156;31m━━━━━━━━━━━━━━━━━━━━━━━━━━━━━━━━━━━━━━━━\u001b[0m \u001b[32m3.6/3.6 MB\u001b[0m \u001b[31m78.9 kB/s\u001b[0m eta \u001b[36m0:00:00\u001b[0mm eta \u001b[36m0:00:01\u001b[0m[36m0:00:02\u001b[0m\n",
      "\u001b[?25hRequirement already satisfied: pydantic>=1.10 in /home/gaurang/anaconda3/lib/python3.11/site-packages (from llamaindex-py-client<0.2.0,>=0.1.13->llama-index-core<0.11.0,>=0.10.17->llama-index) (2.4.2)\n",
      "Requirement already satisfied: anyio in /home/gaurang/anaconda3/lib/python3.11/site-packages (from httpx->llama-index-core<0.11.0,>=0.10.17->llama-index) (3.5.0)\n",
      "Requirement already satisfied: certifi in /home/gaurang/anaconda3/lib/python3.11/site-packages (from httpx->llama-index-core<0.11.0,>=0.10.17->llama-index) (2023.5.7)\n",
      "Collecting httpcore==1.* (from httpx->llama-index-core<0.11.0,>=0.10.17->llama-index)\n",
      "  Downloading httpcore-1.0.4-py3-none-any.whl (77 kB)\n",
      "\u001b[2K     \u001b[38;2;114;156;31m━━━━━━━━━━━━━━━━━━━━━━━━━━━━━━━━━━━━━━━\u001b[0m \u001b[32m77.8/77.8 kB\u001b[0m \u001b[31m178.1 kB/s\u001b[0m eta \u001b[36m0:00:00\u001b[0m1m168.2 kB/s\u001b[0m eta \u001b[36m0:00:01\u001b[0m\n",
      "\u001b[?25hRequirement already satisfied: idna in /home/gaurang/anaconda3/lib/python3.11/site-packages (from httpx->llama-index-core<0.11.0,>=0.10.17->llama-index) (3.4)\n",
      "Requirement already satisfied: sniffio in /home/gaurang/anaconda3/lib/python3.11/site-packages (from httpx->llama-index-core<0.11.0,>=0.10.17->llama-index) (1.2.0)\n",
      "Collecting h11<0.15,>=0.13 (from httpcore==1.*->httpx->llama-index-core<0.11.0,>=0.10.17->llama-index)\n",
      "  Downloading h11-0.14.0-py3-none-any.whl (58 kB)\n",
      "\u001b[2K     \u001b[38;2;114;156;31m━━━━━━━━━━━━━━━━━━━━━━━━━━━━━━━━━━━━━━━\u001b[0m \u001b[32m58.3/58.3 kB\u001b[0m \u001b[31m236.9 kB/s\u001b[0m eta \u001b[36m0:00:00\u001b[0m kB/s\u001b[0m eta \u001b[36m0:00:01\u001b[0m:01\u001b[0m\n",
      "\u001b[?25hRequirement already satisfied: click in /home/gaurang/anaconda3/lib/python3.11/site-packages (from nltk<4.0.0,>=3.8.1->llama-index-core<0.11.0,>=0.10.17->llama-index) (8.0.4)\n",
      "Requirement already satisfied: joblib in /home/gaurang/anaconda3/lib/python3.11/site-packages (from nltk<4.0.0,>=3.8.1->llama-index-core<0.11.0,>=0.10.17->llama-index) (1.2.0)\n",
      "Requirement already satisfied: regex>=2021.8.3 in /home/gaurang/anaconda3/lib/python3.11/site-packages (from nltk<4.0.0,>=3.8.1->llama-index-core<0.11.0,>=0.10.17->llama-index) (2022.7.9)\n",
      "Collecting distro<2,>=1.7.0 (from openai>=1.1.0->llama-index-core<0.11.0,>=0.10.17->llama-index)\n",
      "  Downloading distro-1.9.0-py3-none-any.whl (20 kB)\n",
      "Collecting typing-extensions>=4.5.0 (from llama-index-core<0.11.0,>=0.10.17->llama-index)\n",
      "  Downloading typing_extensions-4.10.0-py3-none-any.whl (33 kB)\n",
      "Collecting PyMuPDFb==1.23.22 (from pymupdf<2.0.0,>=1.23.21->llama-index-readers-file<0.2.0,>=0.1.4->llama-index)\n",
      "  Downloading PyMuPDFb-1.23.22-py3-none-manylinux2014_x86_64.manylinux_2_17_x86_64.whl (30.6 MB)\n",
      "\u001b[2K     \u001b[38;2;114;156;31m━━━━━━━━━━━━━━━━━━━━━━━━━━━━━━━━━━━━━━━\u001b[0m \u001b[32m30.6/30.6 MB\u001b[0m \u001b[31m121.3 kB/s\u001b[0m eta \u001b[36m0:00:00\u001b[0mm eta \u001b[36m0:00:01\u001b[0m[36m0:00:08\u001b[0m\n",
      "\u001b[?25hRequirement already satisfied: charset-normalizer<4,>=2 in /home/gaurang/anaconda3/lib/python3.11/site-packages (from requests>=2.31.0->llama-index-core<0.11.0,>=0.10.17->llama-index) (2.0.4)\n",
      "Requirement already satisfied: urllib3<3,>=1.21.1 in /home/gaurang/anaconda3/lib/python3.11/site-packages (from requests>=2.31.0->llama-index-core<0.11.0,>=0.10.17->llama-index) (1.26.16)\n",
      "Requirement already satisfied: greenlet!=0.4.17 in /home/gaurang/anaconda3/lib/python3.11/site-packages (from SQLAlchemy[asyncio]>=1.4.49->llama-index-core<0.11.0,>=0.10.17->llama-index) (2.0.1)\n",
      "Requirement already satisfied: mypy-extensions>=0.3.0 in /home/gaurang/anaconda3/lib/python3.11/site-packages (from typing-inspect>=0.8.0->llama-index-core<0.11.0,>=0.10.17->llama-index) (0.4.3)\n",
      "Collecting marshmallow<4.0.0,>=3.18.0 (from dataclasses-json->llama-index-core<0.11.0,>=0.10.17->llama-index)\n",
      "  Downloading marshmallow-3.21.1-py3-none-any.whl (49 kB)\n",
      "\u001b[2K     \u001b[38;2;114;156;31m━━━━━━━━━━━━━━━━━━━━━━━━━━━━━━━━━━━━━━━\u001b[0m \u001b[32m49.4/49.4 kB\u001b[0m \u001b[31m220.8 kB/s\u001b[0m eta \u001b[36m0:00:00\u001b[0m kB/s\u001b[0m eta \u001b[36m0:00:01\u001b[0m\n",
      "\u001b[?25hRequirement already satisfied: python-dateutil>=2.8.1 in /home/gaurang/anaconda3/lib/python3.11/site-packages (from pandas->llama-index-core<0.11.0,>=0.10.17->llama-index) (2.8.2)\n",
      "Requirement already satisfied: pytz>=2020.1 in /home/gaurang/anaconda3/lib/python3.11/site-packages (from pandas->llama-index-core<0.11.0,>=0.10.17->llama-index) (2022.7)\n",
      "Collecting build>=1.0.3 (from chromadb<0.5.0,>=0.4.22->llama-index-vector-stores-chroma<0.2.0,>=0.1.1->llama-index-cli<0.2.0,>=0.1.2->llama-index)\n",
      "  Downloading build-1.1.1-py3-none-any.whl (19 kB)\n",
      "Collecting chroma-hnswlib==0.7.3 (from chromadb<0.5.0,>=0.4.22->llama-index-vector-stores-chroma<0.2.0,>=0.1.1->llama-index-cli<0.2.0,>=0.1.2->llama-index)\n",
      "  Downloading chroma_hnswlib-0.7.3-cp311-cp311-manylinux_2_17_x86_64.manylinux2014_x86_64.whl (2.4 MB)\n",
      "\u001b[2K     \u001b[38;2;114;156;31m━━━━━━━━━━━━━━━━━━━━━━━━━━━━━━━━━━━━━━━━\u001b[0m \u001b[32m2.4/2.4 MB\u001b[0m \u001b[31m152.0 kB/s\u001b[0m eta \u001b[36m0:00:00\u001b[0m[36m0:00:01\u001b[0mm eta \u001b[36m0:00:01\u001b[0m\n",
      "\u001b[?25hCollecting fastapi>=0.95.2 (from chromadb<0.5.0,>=0.4.22->llama-index-vector-stores-chroma<0.2.0,>=0.1.1->llama-index-cli<0.2.0,>=0.1.2->llama-index)\n",
      "  Downloading fastapi-0.110.0-py3-none-any.whl (92 kB)\n",
      "\u001b[2K     \u001b[38;2;114;156;31m━━━━━━━━━━━━━━━━━━━━━━━━━━━━━━━━━━━━━━━\u001b[0m \u001b[32m92.1/92.1 kB\u001b[0m \u001b[31m186.6 kB/s\u001b[0m eta \u001b[36m0:00:00\u001b[0m kB/s\u001b[0m eta \u001b[36m0:00:01\u001b[0m\n",
      "\u001b[?25hCollecting uvicorn[standard]>=0.18.3 (from chromadb<0.5.0,>=0.4.22->llama-index-vector-stores-chroma<0.2.0,>=0.1.1->llama-index-cli<0.2.0,>=0.1.2->llama-index)\n",
      "  Downloading uvicorn-0.27.1-py3-none-any.whl (60 kB)\n",
      "\u001b[2K     \u001b[38;2;114;156;31m━━━━━━━━━━━━━━━━━━━━━━━━━━━━━━━━━━━━━━━\u001b[0m \u001b[32m60.8/60.8 kB\u001b[0m \u001b[31m262.5 kB/s\u001b[0m eta \u001b[36m0:00:00\u001b[0m1m229.0 kB/s\u001b[0m eta \u001b[36m0:00:01\u001b[0m\n",
      "\u001b[?25hCollecting posthog>=2.4.0 (from chromadb<0.5.0,>=0.4.22->llama-index-vector-stores-chroma<0.2.0,>=0.1.1->llama-index-cli<0.2.0,>=0.1.2->llama-index)\n",
      "  Downloading posthog-3.5.0-py2.py3-none-any.whl (41 kB)\n",
      "\u001b[2K     \u001b[38;2;114;156;31m━━━━━━━━━━━━━━━━━━━━━━━━━━━━━━━━━━━━━━━\u001b[0m \u001b[32m41.3/41.3 kB\u001b[0m \u001b[31m177.9 kB/s\u001b[0m eta \u001b[36m0:00:00\u001b[0m kB/s\u001b[0m eta \u001b[36m0:00:01\u001b[0m\n",
      "\u001b[?25hCollecting pulsar-client>=3.1.0 (from chromadb<0.5.0,>=0.4.22->llama-index-vector-stores-chroma<0.2.0,>=0.1.1->llama-index-cli<0.2.0,>=0.1.2->llama-index)\n",
      "  Downloading pulsar_client-3.4.0-cp311-cp311-manylinux_2_17_x86_64.manylinux2014_x86_64.whl (5.4 MB)\n",
      "\u001b[2K     \u001b[38;2;114;156;31m━━━━━━━━━━━━━━━━━━━━━━━━━━━━━━━━━━━━━━━━\u001b[0m \u001b[32m5.4/5.4 MB\u001b[0m \u001b[31m130.1 kB/s\u001b[0m eta \u001b[36m0:00:00\u001b[0mm eta \u001b[36m0:00:01\u001b[0m[36m0:00:02\u001b[0m\n",
      "\u001b[?25hCollecting opentelemetry-api>=1.2.0 (from chromadb<0.5.0,>=0.4.22->llama-index-vector-stores-chroma<0.2.0,>=0.1.1->llama-index-cli<0.2.0,>=0.1.2->llama-index)\n",
      "  Downloading opentelemetry_api-1.23.0-py3-none-any.whl (58 kB)\n",
      "\u001b[2K     \u001b[38;2;114;156;31m━━━━━━━━━━━━━━━━━━━━━━━━━━━━━━━━━━━━━━━\u001b[0m \u001b[32m58.4/58.4 kB\u001b[0m \u001b[31m290.7 kB/s\u001b[0m eta \u001b[36m0:00:00\u001b[0m kB/s\u001b[0m eta \u001b[36m0:00:01\u001b[0m:01\u001b[0m\n",
      "\u001b[?25hCollecting opentelemetry-exporter-otlp-proto-grpc>=1.2.0 (from chromadb<0.5.0,>=0.4.22->llama-index-vector-stores-chroma<0.2.0,>=0.1.1->llama-index-cli<0.2.0,>=0.1.2->llama-index)\n",
      "  Downloading opentelemetry_exporter_otlp_proto_grpc-1.23.0-py3-none-any.whl (18 kB)\n",
      "Collecting opentelemetry-instrumentation-fastapi>=0.41b0 (from chromadb<0.5.0,>=0.4.22->llama-index-vector-stores-chroma<0.2.0,>=0.1.1->llama-index-cli<0.2.0,>=0.1.2->llama-index)\n",
      "  Downloading opentelemetry_instrumentation_fastapi-0.44b0-py3-none-any.whl (11 kB)\n",
      "Collecting opentelemetry-sdk>=1.2.0 (from chromadb<0.5.0,>=0.4.22->llama-index-vector-stores-chroma<0.2.0,>=0.1.1->llama-index-cli<0.2.0,>=0.1.2->llama-index)\n",
      "  Downloading opentelemetry_sdk-1.23.0-py3-none-any.whl (105 kB)\n",
      "\u001b[2K     \u001b[38;2;114;156;31m━━━━━━━━━━━━━━━━━━━━━━━━━━━━━━━━━━━━━\u001b[0m \u001b[32m105.7/105.7 kB\u001b[0m \u001b[31m265.5 kB/s\u001b[0m eta \u001b[36m0:00:00\u001b[0m kB/s\u001b[0m eta \u001b[36m0:00:01\u001b[0m:01\u001b[0m\n",
      "\u001b[?25hCollecting pypika>=0.48.9 (from chromadb<0.5.0,>=0.4.22->llama-index-vector-stores-chroma<0.2.0,>=0.1.1->llama-index-cli<0.2.0,>=0.1.2->llama-index)\n",
      "  Downloading PyPika-0.48.9.tar.gz (67 kB)\n",
      "\u001b[2K     \u001b[38;2;114;156;31m━━━━━━━━━━━━━━━━━━━━━━━━━━━━━━━━━━━━━━━\u001b[0m \u001b[32m67.3/67.3 kB\u001b[0m \u001b[31m121.1 kB/s\u001b[0m eta \u001b[36m0:00:00\u001b[0m1m137.2 kB/s\u001b[0m eta \u001b[36m0:00:01\u001b[0m\n",
      "\u001b[?25h  Installing build dependencies ... \u001b[?25ldone\n",
      "\u001b[?25h  Getting requirements to build wheel ... \u001b[?25ldone\n",
      "\u001b[?25h  Preparing metadata (pyproject.toml) ... \u001b[?25ldone\n",
      "\u001b[?25hCollecting overrides>=7.3.1 (from chromadb<0.5.0,>=0.4.22->llama-index-vector-stores-chroma<0.2.0,>=0.1.1->llama-index-cli<0.2.0,>=0.1.2->llama-index)\n",
      "  Downloading overrides-7.7.0-py3-none-any.whl (17 kB)\n",
      "Collecting importlib-resources (from chromadb<0.5.0,>=0.4.22->llama-index-vector-stores-chroma<0.2.0,>=0.1.1->llama-index-cli<0.2.0,>=0.1.2->llama-index)\n",
      "  Downloading importlib_resources-6.1.2-py3-none-any.whl (34 kB)\n",
      "Requirement already satisfied: grpcio>=1.58.0 in /home/gaurang/anaconda3/lib/python3.11/site-packages (from chromadb<0.5.0,>=0.4.22->llama-index-vector-stores-chroma<0.2.0,>=0.1.1->llama-index-cli<0.2.0,>=0.1.2->llama-index) (1.59.0)\n",
      "Collecting bcrypt>=4.0.1 (from chromadb<0.5.0,>=0.4.22->llama-index-vector-stores-chroma<0.2.0,>=0.1.1->llama-index-cli<0.2.0,>=0.1.2->llama-index)\n",
      "  Downloading bcrypt-4.1.2-cp39-abi3-manylinux_2_28_x86_64.whl (698 kB)\n",
      "\u001b[2K     \u001b[38;2;114;156;31m━━━━━━━━━━━━━━━━━━━━━━━━━━━━━━━━━━━━━\u001b[0m \u001b[32m698.9/698.9 kB\u001b[0m \u001b[31m160.4 kB/s\u001b[0m eta \u001b[36m0:00:00\u001b[0mm eta \u001b[36m0:00:01\u001b[0m[36m0:00:01\u001b[0m\n",
      "\u001b[?25hRequirement already satisfied: typer>=0.9.0 in /home/gaurang/anaconda3/lib/python3.11/site-packages (from chromadb<0.5.0,>=0.4.22->llama-index-vector-stores-chroma<0.2.0,>=0.1.1->llama-index-cli<0.2.0,>=0.1.2->llama-index) (0.9.0)\n",
      "Collecting kubernetes>=28.1.0 (from chromadb<0.5.0,>=0.4.22->llama-index-vector-stores-chroma<0.2.0,>=0.1.1->llama-index-cli<0.2.0,>=0.1.2->llama-index)\n",
      "  Downloading kubernetes-29.0.0-py2.py3-none-any.whl (1.6 MB)\n",
      "\u001b[2K     \u001b[38;2;114;156;31m━━━━━━━━━━━━━━━━━━━━━━━━━━━━━━━━━━━━━━━━\u001b[0m \u001b[32m1.6/1.6 MB\u001b[0m \u001b[31m122.0 kB/s\u001b[0m eta \u001b[36m0:00:00\u001b[0mm eta \u001b[36m0:00:01\u001b[0m[36m0:00:01\u001b[0m\n",
      "\u001b[?25hCollecting tenacity<9.0.0,>=8.2.0 (from llama-index-core<0.11.0,>=0.10.17->llama-index)\n",
      "  Downloading tenacity-8.2.3-py3-none-any.whl (24 kB)\n",
      "Collecting mmh3>=4.0.1 (from chromadb<0.5.0,>=0.4.22->llama-index-vector-stores-chroma<0.2.0,>=0.1.1->llama-index-cli<0.2.0,>=0.1.2->llama-index)\n",
      "  Downloading mmh3-4.1.0-cp311-cp311-manylinux_2_5_x86_64.manylinux1_x86_64.manylinux_2_17_x86_64.manylinux2014_x86_64.whl (67 kB)\n",
      "\u001b[2K     \u001b[38;2;114;156;31m━━━━━━━━━━━━━━━━━━━━━━━━━━━━━━━━━━━━━━━\u001b[0m \u001b[32m67.8/67.8 kB\u001b[0m \u001b[31m250.9 kB/s\u001b[0m eta \u001b[36m0:00:00\u001b[0m kB/s\u001b[0m eta \u001b[36m0:00:01\u001b[0m:01\u001b[0m\n",
      "\u001b[?25hCollecting orjson>=3.9.12 (from chromadb<0.5.0,>=0.4.22->llama-index-vector-stores-chroma<0.2.0,>=0.1.1->llama-index-cli<0.2.0,>=0.1.2->llama-index)\n",
      "  Downloading orjson-3.9.15-cp311-cp311-manylinux_2_17_x86_64.manylinux2014_x86_64.whl (138 kB)\n",
      "\u001b[2K     \u001b[38;2;114;156;31m━━━━━━━━━━━━━━━━━━━━━━━━━━━━━━━━━━━━━\u001b[0m \u001b[32m138.5/138.5 kB\u001b[0m \u001b[31m277.6 kB/s\u001b[0m eta \u001b[36m0:00:00\u001b[0m1m278.4 kB/s\u001b[0m eta \u001b[36m0:00:01\u001b[0m\n",
      "\u001b[?25hRequirement already satisfied: packaging>=17.0 in /home/gaurang/anaconda3/lib/python3.11/site-packages (from marshmallow<4.0.0,>=3.18.0->dataclasses-json->llama-index-core<0.11.0,>=0.10.17->llama-index) (23.0)\n",
      "Collecting coloredlogs (from onnxruntime<2.0.0,>=1.17.0->llama-index-vector-stores-chroma<0.2.0,>=0.1.1->llama-index-cli<0.2.0,>=0.1.2->llama-index)\n",
      "  Downloading coloredlogs-15.0.1-py2.py3-none-any.whl (46 kB)\n",
      "\u001b[2K     \u001b[38;2;114;156;31m━━━━━━━━━━━━━━━━━━━━━━━━━━━━━━━━━━━━━━━\u001b[0m \u001b[32m46.0/46.0 kB\u001b[0m \u001b[31m239.8 kB/s\u001b[0m eta \u001b[36m0:00:00\u001b[0m kB/s\u001b[0m eta \u001b[36m0:00:01\u001b[0m\n",
      "\u001b[?25hRequirement already satisfied: flatbuffers in /home/gaurang/anaconda3/lib/python3.11/site-packages (from onnxruntime<2.0.0,>=1.17.0->llama-index-vector-stores-chroma<0.2.0,>=0.1.1->llama-index-cli<0.2.0,>=0.1.2->llama-index) (23.5.26)\n",
      "Requirement already satisfied: protobuf in /home/gaurang/anaconda3/lib/python3.11/site-packages (from onnxruntime<2.0.0,>=1.17.0->llama-index-vector-stores-chroma<0.2.0,>=0.1.1->llama-index-cli<0.2.0,>=0.1.2->llama-index) (4.24.3)\n",
      "Requirement already satisfied: sympy in /home/gaurang/anaconda3/lib/python3.11/site-packages (from onnxruntime<2.0.0,>=1.17.0->llama-index-vector-stores-chroma<0.2.0,>=0.1.1->llama-index-cli<0.2.0,>=0.1.2->llama-index) (1.11.1)\n",
      "Requirement already satisfied: annotated-types>=0.4.0 in /home/gaurang/anaconda3/lib/python3.11/site-packages (from pydantic>=1.10->llamaindex-py-client<0.2.0,>=0.1.13->llama-index-core<0.11.0,>=0.10.17->llama-index) (0.5.0)\n",
      "Requirement already satisfied: pydantic-core==2.10.1 in /home/gaurang/anaconda3/lib/python3.11/site-packages (from pydantic>=1.10->llamaindex-py-client<0.2.0,>=0.1.13->llama-index-core<0.11.0,>=0.10.17->llama-index) (2.10.1)\n",
      "Requirement already satisfied: six>=1.5 in /home/gaurang/anaconda3/lib/python3.11/site-packages (from python-dateutil>=2.8.1->pandas->llama-index-core<0.11.0,>=0.10.17->llama-index) (1.16.0)\n"
     ]
    },
    {
     "name": "stdout",
     "output_type": "stream",
     "text": [
      "Collecting huggingface_hub<1.0,>=0.16.4 (from tokenizers<0.16.0,>=0.15.1->llama-index-vector-stores-chroma<0.2.0,>=0.1.1->llama-index-cli<0.2.0,>=0.1.2->llama-index)\n",
      "  Downloading huggingface_hub-0.21.4-py3-none-any.whl (346 kB)\n",
      "\u001b[2K     \u001b[38;2;114;156;31m━━━━━━━━━━━━━━━━━━━━━━━━━━━━━━━━━━━━━━\u001b[0m \u001b[32m346.4/346.4 kB\u001b[0m \u001b[31m99.1 kB/s\u001b[0m eta \u001b[36m0:00:00\u001b[0m[36m0:00:01\u001b[0mm eta \u001b[36m0:00:01\u001b[0m\n",
      "\u001b[?25hCollecting pyproject_hooks (from build>=1.0.3->chromadb<0.5.0,>=0.4.22->llama-index-vector-stores-chroma<0.2.0,>=0.1.1->llama-index-cli<0.2.0,>=0.1.2->llama-index)\n",
      "  Downloading pyproject_hooks-1.0.0-py3-none-any.whl (9.3 kB)\n",
      "Collecting starlette<0.37.0,>=0.36.3 (from fastapi>=0.95.2->chromadb<0.5.0,>=0.4.22->llama-index-vector-stores-chroma<0.2.0,>=0.1.1->llama-index-cli<0.2.0,>=0.1.2->llama-index)\n",
      "  Downloading starlette-0.36.3-py3-none-any.whl (71 kB)\n",
      "\u001b[2K     \u001b[38;2;114;156;31m━━━━━━━━━━━━━━━━━━━━━━━━━━━━━━━━━━━━━━━━\u001b[0m \u001b[32m71.5/71.5 kB\u001b[0m \u001b[31m86.3 kB/s\u001b[0m eta \u001b[36m0:00:00\u001b[0m kB/s\u001b[0m eta \u001b[36m0:00:01\u001b[0m:01\u001b[0m\n",
      "\u001b[?25hRequirement already satisfied: filelock in /home/gaurang/anaconda3/lib/python3.11/site-packages (from huggingface_hub<1.0,>=0.16.4->tokenizers<0.16.0,>=0.15.1->llama-index-vector-stores-chroma<0.2.0,>=0.1.1->llama-index-cli<0.2.0,>=0.1.2->llama-index) (3.9.0)\n",
      "Requirement already satisfied: google-auth>=1.0.1 in /home/gaurang/anaconda3/lib/python3.11/site-packages (from kubernetes>=28.1.0->chromadb<0.5.0,>=0.4.22->llama-index-vector-stores-chroma<0.2.0,>=0.1.1->llama-index-cli<0.2.0,>=0.1.2->llama-index) (2.23.2)\n",
      "Requirement already satisfied: websocket-client!=0.40.0,!=0.41.*,!=0.42.*,>=0.32.0 in /home/gaurang/anaconda3/lib/python3.11/site-packages (from kubernetes>=28.1.0->chromadb<0.5.0,>=0.4.22->llama-index-vector-stores-chroma<0.2.0,>=0.1.1->llama-index-cli<0.2.0,>=0.1.2->llama-index) (0.58.0)\n",
      "Requirement already satisfied: requests-oauthlib in /home/gaurang/anaconda3/lib/python3.11/site-packages (from kubernetes>=28.1.0->chromadb<0.5.0,>=0.4.22->llama-index-vector-stores-chroma<0.2.0,>=0.1.1->llama-index-cli<0.2.0,>=0.1.2->llama-index) (1.3.1)\n",
      "Requirement already satisfied: oauthlib>=3.2.2 in /home/gaurang/anaconda3/lib/python3.11/site-packages (from kubernetes>=28.1.0->chromadb<0.5.0,>=0.4.22->llama-index-vector-stores-chroma<0.2.0,>=0.1.1->llama-index-cli<0.2.0,>=0.1.2->llama-index) (3.2.2)\n",
      "Requirement already satisfied: importlib-metadata<7.0,>=6.0 in /home/gaurang/anaconda3/lib/python3.11/site-packages (from opentelemetry-api>=1.2.0->chromadb<0.5.0,>=0.4.22->llama-index-vector-stores-chroma<0.2.0,>=0.1.1->llama-index-cli<0.2.0,>=0.1.2->llama-index) (6.0.0)\n",
      "Collecting googleapis-common-protos~=1.52 (from opentelemetry-exporter-otlp-proto-grpc>=1.2.0->chromadb<0.5.0,>=0.4.22->llama-index-vector-stores-chroma<0.2.0,>=0.1.1->llama-index-cli<0.2.0,>=0.1.2->llama-index)\n",
      "  Downloading googleapis_common_protos-1.62.0-py2.py3-none-any.whl (228 kB)\n",
      "\u001b[2K     \u001b[38;2;114;156;31m━━━━━━━━━━━━━━━━━━━━━━━━━━━━━━━━━━━━━━\u001b[0m \u001b[32m228.7/228.7 kB\u001b[0m \u001b[31m68.1 kB/s\u001b[0m eta \u001b[36m0:00:00\u001b[0m kB/s\u001b[0m eta \u001b[36m0:00:01\u001b[0m:01\u001b[0m\n",
      "\u001b[?25hCollecting opentelemetry-exporter-otlp-proto-common==1.23.0 (from opentelemetry-exporter-otlp-proto-grpc>=1.2.0->chromadb<0.5.0,>=0.4.22->llama-index-vector-stores-chroma<0.2.0,>=0.1.1->llama-index-cli<0.2.0,>=0.1.2->llama-index)\n",
      "  Downloading opentelemetry_exporter_otlp_proto_common-1.23.0-py3-none-any.whl (17 kB)\n",
      "Collecting opentelemetry-proto==1.23.0 (from opentelemetry-exporter-otlp-proto-grpc>=1.2.0->chromadb<0.5.0,>=0.4.22->llama-index-vector-stores-chroma<0.2.0,>=0.1.1->llama-index-cli<0.2.0,>=0.1.2->llama-index)\n",
      "  Downloading opentelemetry_proto-1.23.0-py3-none-any.whl (50 kB)\n",
      "\u001b[2K     \u001b[38;2;114;156;31m━━━━━━━━━━━━━━━━━━━━━━━━━━━━━━━━━━━━━━━\u001b[0m \u001b[32m50.8/50.8 kB\u001b[0m \u001b[31m108.0 kB/s\u001b[0m eta \u001b[36m0:00:00\u001b[0m kB/s\u001b[0m eta \u001b[36m0:00:01\u001b[0m:01\u001b[0m\n",
      "\u001b[?25hCollecting opentelemetry-instrumentation-asgi==0.44b0 (from opentelemetry-instrumentation-fastapi>=0.41b0->chromadb<0.5.0,>=0.4.22->llama-index-vector-stores-chroma<0.2.0,>=0.1.1->llama-index-cli<0.2.0,>=0.1.2->llama-index)\n",
      "  Downloading opentelemetry_instrumentation_asgi-0.44b0-py3-none-any.whl (14 kB)\n",
      "Collecting opentelemetry-instrumentation==0.44b0 (from opentelemetry-instrumentation-fastapi>=0.41b0->chromadb<0.5.0,>=0.4.22->llama-index-vector-stores-chroma<0.2.0,>=0.1.1->llama-index-cli<0.2.0,>=0.1.2->llama-index)\n",
      "  Downloading opentelemetry_instrumentation-0.44b0-py3-none-any.whl (28 kB)\n",
      "Collecting opentelemetry-semantic-conventions==0.44b0 (from opentelemetry-instrumentation-fastapi>=0.41b0->chromadb<0.5.0,>=0.4.22->llama-index-vector-stores-chroma<0.2.0,>=0.1.1->llama-index-cli<0.2.0,>=0.1.2->llama-index)\n",
      "  Downloading opentelemetry_semantic_conventions-0.44b0-py3-none-any.whl (36 kB)\n",
      "Collecting opentelemetry-util-http==0.44b0 (from opentelemetry-instrumentation-fastapi>=0.41b0->chromadb<0.5.0,>=0.4.22->llama-index-vector-stores-chroma<0.2.0,>=0.1.1->llama-index-cli<0.2.0,>=0.1.2->llama-index)\n",
      "  Downloading opentelemetry_util_http-0.44b0-py3-none-any.whl (6.9 kB)\n",
      "Requirement already satisfied: setuptools>=16.0 in /home/gaurang/anaconda3/lib/python3.11/site-packages (from opentelemetry-instrumentation==0.44b0->opentelemetry-instrumentation-fastapi>=0.41b0->chromadb<0.5.0,>=0.4.22->llama-index-vector-stores-chroma<0.2.0,>=0.1.1->llama-index-cli<0.2.0,>=0.1.2->llama-index) (67.8.0)\n",
      "Collecting asgiref~=3.0 (from opentelemetry-instrumentation-asgi==0.44b0->opentelemetry-instrumentation-fastapi>=0.41b0->chromadb<0.5.0,>=0.4.22->llama-index-vector-stores-chroma<0.2.0,>=0.1.1->llama-index-cli<0.2.0,>=0.1.2->llama-index)\n",
      "  Downloading asgiref-3.7.2-py3-none-any.whl (24 kB)\n",
      "Collecting monotonic>=1.5 (from posthog>=2.4.0->chromadb<0.5.0,>=0.4.22->llama-index-vector-stores-chroma<0.2.0,>=0.1.1->llama-index-cli<0.2.0,>=0.1.2->llama-index)\n",
      "  Downloading monotonic-1.6-py2.py3-none-any.whl (8.2 kB)\n",
      "Collecting backoff>=1.10.0 (from posthog>=2.4.0->chromadb<0.5.0,>=0.4.22->llama-index-vector-stores-chroma<0.2.0,>=0.1.1->llama-index-cli<0.2.0,>=0.1.2->llama-index)\n",
      "  Downloading backoff-2.2.1-py3-none-any.whl (15 kB)\n",
      "Collecting httptools>=0.5.0 (from uvicorn[standard]>=0.18.3->chromadb<0.5.0,>=0.4.22->llama-index-vector-stores-chroma<0.2.0,>=0.1.1->llama-index-cli<0.2.0,>=0.1.2->llama-index)\n",
      "  Downloading httptools-0.6.1-cp311-cp311-manylinux_2_5_x86_64.manylinux1_x86_64.manylinux_2_17_x86_64.manylinux2014_x86_64.whl (318 kB)\n",
      "\u001b[2K     \u001b[38;2;114;156;31m━━━━━━━━━━━━━━━━━━━━━━━━━━━━━━━━━━━━━━\u001b[0m \u001b[32m318.5/318.5 kB\u001b[0m \u001b[31m28.2 kB/s\u001b[0m eta \u001b[36m0:00:00\u001b[0mm eta \u001b[36m0:00:01\u001b[0m[36m0:00:01\u001b[0m\n",
      "\u001b[?25hCollecting python-dotenv>=0.13 (from uvicorn[standard]>=0.18.3->chromadb<0.5.0,>=0.4.22->llama-index-vector-stores-chroma<0.2.0,>=0.1.1->llama-index-cli<0.2.0,>=0.1.2->llama-index)\n",
      "  Downloading python_dotenv-1.0.1-py3-none-any.whl (19 kB)\n",
      "Collecting uvloop!=0.15.0,!=0.15.1,>=0.14.0 (from uvicorn[standard]>=0.18.3->chromadb<0.5.0,>=0.4.22->llama-index-vector-stores-chroma<0.2.0,>=0.1.1->llama-index-cli<0.2.0,>=0.1.2->llama-index)\n",
      "  Downloading uvloop-0.19.0-cp311-cp311-manylinux_2_17_x86_64.manylinux2014_x86_64.whl (3.5 MB)\n",
      "\u001b[2K     \u001b[38;2;114;156;31m━━━━━━━━━━━━━━━━━━━━━━━━━━━━━━━━━━━━━━━━\u001b[0m \u001b[32m3.5/3.5 MB\u001b[0m \u001b[31m94.2 kB/s\u001b[0m eta \u001b[36m0:00:00\u001b[0mm eta \u001b[36m0:00:01\u001b[0m[36m0:00:02\u001b[0m\n",
      "\u001b[?25hCollecting watchfiles>=0.13 (from uvicorn[standard]>=0.18.3->chromadb<0.5.0,>=0.4.22->llama-index-vector-stores-chroma<0.2.0,>=0.1.1->llama-index-cli<0.2.0,>=0.1.2->llama-index)\n",
      "  Downloading watchfiles-0.21.0-cp311-cp311-manylinux_2_17_x86_64.manylinux2014_x86_64.whl (1.3 MB)\n",
      "\u001b[2K     \u001b[38;2;114;156;31m━━━━━━━━━━━━━━━━━━━━━━━━━━━━━━━━━━━━━━━━\u001b[0m \u001b[32m1.3/1.3 MB\u001b[0m \u001b[31m140.5 kB/s\u001b[0m eta \u001b[36m0:00:00\u001b[0m[36m0:00:01\u001b[0mm eta \u001b[36m0:00:01\u001b[0m\n",
      "\u001b[?25hCollecting websockets>=10.4 (from uvicorn[standard]>=0.18.3->chromadb<0.5.0,>=0.4.22->llama-index-vector-stores-chroma<0.2.0,>=0.1.1->llama-index-cli<0.2.0,>=0.1.2->llama-index)\n",
      "  Downloading websockets-12.0-cp311-cp311-manylinux_2_5_x86_64.manylinux1_x86_64.manylinux_2_17_x86_64.manylinux2014_x86_64.whl (130 kB)\n",
      "\u001b[2K     \u001b[38;2;114;156;31m━━━━━━━━━━━━━━━━━━━━━━━━━━━━━━━━━━━━━\u001b[0m \u001b[32m130.9/130.9 kB\u001b[0m \u001b[31m214.7 kB/s\u001b[0m eta \u001b[36m0:00:00\u001b[0m1m224.0 kB/s\u001b[0m eta \u001b[36m0:00:01\u001b[0m\n",
      "\u001b[?25hCollecting humanfriendly>=9.1 (from coloredlogs->onnxruntime<2.0.0,>=1.17.0->llama-index-vector-stores-chroma<0.2.0,>=0.1.1->llama-index-cli<0.2.0,>=0.1.2->llama-index)\n",
      "  Downloading humanfriendly-10.0-py2.py3-none-any.whl (86 kB)\n",
      "\u001b[2K     \u001b[38;2;114;156;31m━━━━━━━━━━━━━━━━━━━━━━━━━━━━━━━━━━━━━━━\u001b[0m \u001b[32m86.8/86.8 kB\u001b[0m \u001b[31m146.4 kB/s\u001b[0m eta \u001b[36m0:00:00\u001b[0m1m143.7 kB/s\u001b[0m eta \u001b[36m0:00:01\u001b[0m\n",
      "\u001b[?25hRequirement already satisfied: mpmath>=0.19 in /home/gaurang/anaconda3/lib/python3.11/site-packages (from sympy->onnxruntime<2.0.0,>=1.17.0->llama-index-vector-stores-chroma<0.2.0,>=0.1.1->llama-index-cli<0.2.0,>=0.1.2->llama-index) (1.2.1)\n",
      "Requirement already satisfied: cachetools<6.0,>=2.0.0 in /home/gaurang/anaconda3/lib/python3.11/site-packages (from google-auth>=1.0.1->kubernetes>=28.1.0->chromadb<0.5.0,>=0.4.22->llama-index-vector-stores-chroma<0.2.0,>=0.1.1->llama-index-cli<0.2.0,>=0.1.2->llama-index) (5.3.1)\n",
      "Requirement already satisfied: pyasn1-modules>=0.2.1 in /home/gaurang/anaconda3/lib/python3.11/site-packages (from google-auth>=1.0.1->kubernetes>=28.1.0->chromadb<0.5.0,>=0.4.22->llama-index-vector-stores-chroma<0.2.0,>=0.1.1->llama-index-cli<0.2.0,>=0.1.2->llama-index) (0.2.8)\n",
      "Requirement already satisfied: rsa<5,>=3.1.4 in /home/gaurang/anaconda3/lib/python3.11/site-packages (from google-auth>=1.0.1->kubernetes>=28.1.0->chromadb<0.5.0,>=0.4.22->llama-index-vector-stores-chroma<0.2.0,>=0.1.1->llama-index-cli<0.2.0,>=0.1.2->llama-index) (4.9)\n",
      "Requirement already satisfied: zipp>=0.5 in /home/gaurang/anaconda3/lib/python3.11/site-packages (from importlib-metadata<7.0,>=6.0->opentelemetry-api>=1.2.0->chromadb<0.5.0,>=0.4.22->llama-index-vector-stores-chroma<0.2.0,>=0.1.1->llama-index-cli<0.2.0,>=0.1.2->llama-index) (3.11.0)\n",
      "Requirement already satisfied: pyasn1<0.5.0,>=0.4.6 in /home/gaurang/anaconda3/lib/python3.11/site-packages (from pyasn1-modules>=0.2.1->google-auth>=1.0.1->kubernetes>=28.1.0->chromadb<0.5.0,>=0.4.22->llama-index-vector-stores-chroma<0.2.0,>=0.1.1->llama-index-cli<0.2.0,>=0.1.2->llama-index) (0.4.8)\n",
      "Building wheels for collected packages: pypika\n",
      "  Building wheel for pypika (pyproject.toml) ... \u001b[?25ldone\n",
      "\u001b[?25h  Created wheel for pypika: filename=PyPika-0.48.9-py2.py3-none-any.whl size=53723 sha256=3a2f1f8d97a2581cdcc67499c995a015973089e3765c173728be3eee369ca7ac\n",
      "  Stored in directory: /home/gaurang/.cache/pip/wheels/a3/01/bd/4c40ceb9d5354160cb186dcc153360f4ab7eb23e2b24daf96d\n",
      "Successfully built pypika\n",
      "Installing collected packages: pypika, monotonic, mmh3, dirtyjson, websockets, uvloop, typing-extensions, tqdm, tenacity, requests, PyYAML, python-dotenv, pyproject_hooks, pypdf, PyMuPDFb, pulsar-client, overrides, orjson, opentelemetry-util-http, opentelemetry-semantic-conventions, opentelemetry-proto, networkx, nest-asyncio, marshmallow, importlib-resources, humanfriendly, httptools, h11, googleapis-common-protos, fsspec, distro, deprecated, chroma-hnswlib, beautifulsoup4, bcrypt, backoff, asgiref, watchfiles, uvicorn, typing-inspect, tiktoken, starlette, SQLAlchemy, pymupdf, posthog, opentelemetry-exporter-otlp-proto-common, opentelemetry-api, nltk, huggingface_hub, httpcore, coloredlogs, build, bs4, aiohttp, tokenizers, opentelemetry-sdk, opentelemetry-instrumentation, onnxruntime, kubernetes, httpx, dataclasses-json, opentelemetry-instrumentation-asgi, opentelemetry-exporter-otlp-proto-grpc, openai, llamaindex-py-client, fastapi, opentelemetry-instrumentation-fastapi, llama-index-legacy, llama-index-core, llama-parse, llama-index-readers-file, llama-index-llms-openai, llama-index-indices-managed-llama-cloud, llama-index-embeddings-openai, chromadb, llama-index-vector-stores-chroma, llama-index-readers-llama-parse, llama-index-multi-modal-llms-openai, llama-index-agent-openai, llama-index-program-openai, llama-index-cli, llama-index-question-gen-openai, llama-index\n",
      "  Attempting uninstall: typing-extensions\n",
      "    Found existing installation: typing_extensions 4.6.3\n",
      "    Uninstalling typing_extensions-4.6.3:\n",
      "      Successfully uninstalled typing_extensions-4.6.3\n",
      "  Attempting uninstall: tqdm\n",
      "    Found existing installation: tqdm 4.65.0\n",
      "    Uninstalling tqdm-4.65.0:\n",
      "      Successfully uninstalled tqdm-4.65.0\n",
      "  Attempting uninstall: tenacity\n",
      "    Found existing installation: tenacity 8.2.2\n",
      "    Uninstalling tenacity-8.2.2:\n",
      "      Successfully uninstalled tenacity-8.2.2\n",
      "  Attempting uninstall: requests\n",
      "    Found existing installation: requests 2.29.0\n",
      "    Uninstalling requests-2.29.0:\n",
      "      Successfully uninstalled requests-2.29.0\n",
      "  Attempting uninstall: PyYAML\n",
      "    Found existing installation: PyYAML 6.0\n",
      "    Uninstalling PyYAML-6.0:\n",
      "      Successfully uninstalled PyYAML-6.0\n",
      "  Attempting uninstall: networkx\n",
      "    Found existing installation: networkx 2.8.4\n",
      "    Uninstalling networkx-2.8.4:\n",
      "      Successfully uninstalled networkx-2.8.4\n",
      "  Attempting uninstall: nest-asyncio\n",
      "    Found existing installation: nest-asyncio 1.5.6\n",
      "    Uninstalling nest-asyncio-1.5.6:\n",
      "      Successfully uninstalled nest-asyncio-1.5.6\n",
      "  Attempting uninstall: fsspec\n",
      "    Found existing installation: fsspec 2023.4.0\n",
      "    Uninstalling fsspec-2023.4.0:\n",
      "      Successfully uninstalled fsspec-2023.4.0\n",
      "  Attempting uninstall: beautifulsoup4\n",
      "    Found existing installation: beautifulsoup4 4.12.2\n",
      "    Uninstalling beautifulsoup4-4.12.2:\n",
      "      Successfully uninstalled beautifulsoup4-4.12.2\n",
      "  Attempting uninstall: bcrypt\n",
      "    Found existing installation: bcrypt 3.2.0\n",
      "    Uninstalling bcrypt-3.2.0:\n",
      "      Successfully uninstalled bcrypt-3.2.0\n",
      "  Attempting uninstall: SQLAlchemy\n",
      "    Found existing installation: SQLAlchemy 1.4.39\n",
      "    Uninstalling SQLAlchemy-1.4.39:\n",
      "      Successfully uninstalled SQLAlchemy-1.4.39\n",
      "  Attempting uninstall: nltk\n",
      "    Found existing installation: nltk 3.7\n",
      "    Uninstalling nltk-3.7:\n",
      "      Successfully uninstalled nltk-3.7\n",
      "  Attempting uninstall: huggingface_hub\n",
      "    Found existing installation: huggingface-hub 0.15.1\n",
      "    Uninstalling huggingface-hub-0.15.1:\n",
      "      Successfully uninstalled huggingface-hub-0.15.1\n",
      "  Attempting uninstall: aiohttp\n",
      "    Found existing installation: aiohttp 3.8.3\n",
      "    Uninstalling aiohttp-3.8.3:\n",
      "      Successfully uninstalled aiohttp-3.8.3\n",
      "  Attempting uninstall: tokenizers\n",
      "    Found existing installation: tokenizers 0.13.2\n",
      "    Uninstalling tokenizers-0.13.2:\n",
      "      Successfully uninstalled tokenizers-0.13.2\n",
      "\u001b[31mERROR: pip's dependency resolver does not currently take into account all the packages that are installed. This behaviour is the source of the following dependency conflicts.\n",
      "conda-repo-cli 1.0.41 requires requests_mock, which is not installed.\n",
      "spyder 5.4.3 requires pyqt5<5.16, which is not installed.\n",
      "spyder 5.4.3 requires pyqtwebengine<5.16, which is not installed.\n",
      "conda-repo-cli 1.0.41 requires clyent==1.2.1, but you have clyent 1.2.2 which is incompatible.\n",
      "conda-repo-cli 1.0.41 requires nbformat==5.4.0, but you have nbformat 5.7.0 which is incompatible.\n",
      "conda-repo-cli 1.0.41 requires PyYAML==6.0, but you have pyyaml 6.0.1 which is incompatible.\n",
      "conda-repo-cli 1.0.41 requires requests==2.28.1, but you have requests 2.31.0 which is incompatible.\n",
      "transformers 4.29.2 requires tokenizers!=0.11.3,<0.14,>=0.11.1, but you have tokenizers 0.15.2 which is incompatible.\n",
      "s3fs 2023.4.0 requires fsspec==2023.4.0, but you have fsspec 2024.2.0 which is incompatible.\u001b[0m\u001b[31m\n",
      "\u001b[0mSuccessfully installed PyMuPDFb-1.23.22 PyYAML-6.0.1 SQLAlchemy-2.0.28 aiohttp-3.9.3 asgiref-3.7.2 backoff-2.2.1 bcrypt-4.1.2 beautifulsoup4-4.12.3 bs4-0.0.2 build-1.1.1 chroma-hnswlib-0.7.3 chromadb-0.4.24 coloredlogs-15.0.1 dataclasses-json-0.6.4 deprecated-1.2.14 dirtyjson-1.0.8 distro-1.9.0 fastapi-0.110.0 fsspec-2024.2.0 googleapis-common-protos-1.62.0 h11-0.14.0 httpcore-1.0.4 httptools-0.6.1 httpx-0.27.0 huggingface_hub-0.21.4 humanfriendly-10.0 importlib-resources-6.1.2 kubernetes-29.0.0 llama-index-0.10.17 llama-index-agent-openai-0.1.5 llama-index-cli-0.1.8 llama-index-core-0.10.17 llama-index-embeddings-openai-0.1.6 llama-index-indices-managed-llama-cloud-0.1.3 llama-index-legacy-0.9.48 llama-index-llms-openai-0.1.7 llama-index-multi-modal-llms-openai-0.1.4 llama-index-program-openai-0.1.4 llama-index-question-gen-openai-0.1.3 llama-index-readers-file-0.1.8 llama-index-readers-llama-parse-0.1.3 llama-index-vector-stores-chroma-0.1.5 llama-parse-0.3.7 llamaindex-py-client-0.1.13 marshmallow-3.21.1 mmh3-4.1.0 monotonic-1.6 nest-asyncio-1.6.0 networkx-3.2.1 nltk-3.8.1 onnxruntime-1.17.1 openai-1.13.3 opentelemetry-api-1.23.0 opentelemetry-exporter-otlp-proto-common-1.23.0 opentelemetry-exporter-otlp-proto-grpc-1.23.0 opentelemetry-instrumentation-0.44b0 opentelemetry-instrumentation-asgi-0.44b0 opentelemetry-instrumentation-fastapi-0.44b0 opentelemetry-proto-1.23.0 opentelemetry-sdk-1.23.0 opentelemetry-semantic-conventions-0.44b0 opentelemetry-util-http-0.44b0 orjson-3.9.15 overrides-7.7.0 posthog-3.5.0 pulsar-client-3.4.0 pymupdf-1.23.26 pypdf-4.1.0 pypika-0.48.9 pyproject_hooks-1.0.0 python-dotenv-1.0.1 requests-2.31.0 starlette-0.36.3 tenacity-8.2.3 tiktoken-0.6.0 tokenizers-0.15.2 tqdm-4.66.2 typing-extensions-4.10.0 typing-inspect-0.9.0 uvicorn-0.27.1 uvloop-0.19.0 watchfiles-0.21.0 websockets-12.0\n"
     ]
    }
   ],
   "source": [
    "!pip install llama-index\n"
   ]
  },
  {
   "cell_type": "code",
   "execution_count": 2,
   "id": "02962b82",
   "metadata": {},
   "outputs": [
    {
     "name": "stdout",
     "output_type": "stream",
     "text": [
      "Requirement already satisfied: openai in /home/gaurang/anaconda3/lib/python3.11/site-packages (1.13.3)\n",
      "Requirement already satisfied: anyio<5,>=3.5.0 in /home/gaurang/anaconda3/lib/python3.11/site-packages (from openai) (3.5.0)\n",
      "Requirement already satisfied: distro<2,>=1.7.0 in /home/gaurang/anaconda3/lib/python3.11/site-packages (from openai) (1.9.0)\n",
      "Requirement already satisfied: httpx<1,>=0.23.0 in /home/gaurang/anaconda3/lib/python3.11/site-packages (from openai) (0.27.0)\n",
      "Requirement already satisfied: pydantic<3,>=1.9.0 in /home/gaurang/anaconda3/lib/python3.11/site-packages (from openai) (2.4.2)\n",
      "Requirement already satisfied: sniffio in /home/gaurang/anaconda3/lib/python3.11/site-packages (from openai) (1.2.0)\n",
      "Requirement already satisfied: tqdm>4 in /home/gaurang/anaconda3/lib/python3.11/site-packages (from openai) (4.66.2)\n",
      "Requirement already satisfied: typing-extensions<5,>=4.7 in /home/gaurang/anaconda3/lib/python3.11/site-packages (from openai) (4.10.0)\n",
      "Requirement already satisfied: idna>=2.8 in /home/gaurang/anaconda3/lib/python3.11/site-packages (from anyio<5,>=3.5.0->openai) (3.4)\n",
      "Requirement already satisfied: certifi in /home/gaurang/anaconda3/lib/python3.11/site-packages (from httpx<1,>=0.23.0->openai) (2023.5.7)\n",
      "Requirement already satisfied: httpcore==1.* in /home/gaurang/anaconda3/lib/python3.11/site-packages (from httpx<1,>=0.23.0->openai) (1.0.4)\n",
      "Requirement already satisfied: h11<0.15,>=0.13 in /home/gaurang/anaconda3/lib/python3.11/site-packages (from httpcore==1.*->httpx<1,>=0.23.0->openai) (0.14.0)\n",
      "Requirement already satisfied: annotated-types>=0.4.0 in /home/gaurang/anaconda3/lib/python3.11/site-packages (from pydantic<3,>=1.9.0->openai) (0.5.0)\n",
      "Requirement already satisfied: pydantic-core==2.10.1 in /home/gaurang/anaconda3/lib/python3.11/site-packages (from pydantic<3,>=1.9.0->openai) (2.10.1)\n"
     ]
    }
   ],
   "source": [
    "!pip install openai"
   ]
  },
  {
   "cell_type": "code",
   "execution_count": 13,
   "id": "7684b453",
   "metadata": {},
   "outputs": [
    {
     "name": "stdout",
     "output_type": "stream",
     "text": [
      "Collecting llama-index-embeddings-huggingface\n",
      "  Using cached llama_index_embeddings_huggingface-0.1.4-py3-none-any.whl (7.7 kB)\n",
      "Requirement already satisfied: huggingface-hub[inference]>=0.19.0 in /home/gaurang/anaconda3/lib/python3.11/site-packages (from llama-index-embeddings-huggingface) (0.21.4)\n",
      "Requirement already satisfied: llama-index-core<0.11.0,>=0.10.1 in /home/gaurang/anaconda3/lib/python3.11/site-packages (from llama-index-embeddings-huggingface) (0.10.17)\n",
      "Collecting torch<3.0.0,>=2.1.2 (from llama-index-embeddings-huggingface)\n",
      "  Downloading torch-2.2.1-cp311-cp311-manylinux1_x86_64.whl (755.6 MB)\n",
      "\u001b[2K     \u001b[38;2;114;156;31m━━━━━━━━━━━━━━━━━━━━━━━━━━━━━━━━━━━━━━━\u001b[0m \u001b[32m755.6/755.6 MB\u001b[0m \u001b[31m3.3 MB/s\u001b[0m eta \u001b[36m0:00:00\u001b[0mm eta \u001b[36m0:00:01\u001b[0m[36m0:00:04\u001b[0m\n",
      "\u001b[?25hCollecting transformers<5.0.0,>=4.37.0 (from llama-index-embeddings-huggingface)\n",
      "  Downloading transformers-4.38.2-py3-none-any.whl (8.5 MB)\n",
      "\u001b[2K     \u001b[38;2;114;156;31m━━━━━━━━━━━━━━━━━━━━━━━━━━━━━━━━━━━━━━━━\u001b[0m \u001b[32m8.5/8.5 MB\u001b[0m \u001b[31m5.9 MB/s\u001b[0m eta \u001b[36m0:00:00\u001b[0mm eta \u001b[36m0:00:01\u001b[0m[36m0:00:01\u001b[0m\n",
      "\u001b[?25hRequirement already satisfied: filelock in /home/gaurang/anaconda3/lib/python3.11/site-packages (from huggingface-hub[inference]>=0.19.0->llama-index-embeddings-huggingface) (3.9.0)\n",
      "Requirement already satisfied: fsspec>=2023.5.0 in /home/gaurang/anaconda3/lib/python3.11/site-packages (from huggingface-hub[inference]>=0.19.0->llama-index-embeddings-huggingface) (2024.2.0)\n",
      "Requirement already satisfied: requests in /home/gaurang/anaconda3/lib/python3.11/site-packages (from huggingface-hub[inference]>=0.19.0->llama-index-embeddings-huggingface) (2.31.0)\n",
      "Requirement already satisfied: tqdm>=4.42.1 in /home/gaurang/anaconda3/lib/python3.11/site-packages (from huggingface-hub[inference]>=0.19.0->llama-index-embeddings-huggingface) (4.66.2)\n",
      "Requirement already satisfied: pyyaml>=5.1 in /home/gaurang/anaconda3/lib/python3.11/site-packages (from huggingface-hub[inference]>=0.19.0->llama-index-embeddings-huggingface) (6.0.1)\n",
      "Requirement already satisfied: typing-extensions>=3.7.4.3 in /home/gaurang/anaconda3/lib/python3.11/site-packages (from huggingface-hub[inference]>=0.19.0->llama-index-embeddings-huggingface) (4.10.0)\n",
      "Requirement already satisfied: packaging>=20.9 in /home/gaurang/anaconda3/lib/python3.11/site-packages (from huggingface-hub[inference]>=0.19.0->llama-index-embeddings-huggingface) (23.0)\n",
      "Requirement already satisfied: aiohttp in /home/gaurang/anaconda3/lib/python3.11/site-packages (from huggingface-hub[inference]>=0.19.0->llama-index-embeddings-huggingface) (3.9.3)\n",
      "Requirement already satisfied: pydantic<3.0,>1.1 in /home/gaurang/anaconda3/lib/python3.11/site-packages (from huggingface-hub[inference]>=0.19.0->llama-index-embeddings-huggingface) (2.4.2)\n",
      "Requirement already satisfied: SQLAlchemy[asyncio]>=1.4.49 in /home/gaurang/anaconda3/lib/python3.11/site-packages (from llama-index-core<0.11.0,>=0.10.1->llama-index-embeddings-huggingface) (2.0.28)\n",
      "Requirement already satisfied: dataclasses-json in /home/gaurang/anaconda3/lib/python3.11/site-packages (from llama-index-core<0.11.0,>=0.10.1->llama-index-embeddings-huggingface) (0.6.4)\n",
      "Requirement already satisfied: deprecated>=1.2.9.3 in /home/gaurang/anaconda3/lib/python3.11/site-packages (from llama-index-core<0.11.0,>=0.10.1->llama-index-embeddings-huggingface) (1.2.14)\n",
      "Requirement already satisfied: dirtyjson<2.0.0,>=1.0.8 in /home/gaurang/anaconda3/lib/python3.11/site-packages (from llama-index-core<0.11.0,>=0.10.1->llama-index-embeddings-huggingface) (1.0.8)\n",
      "Requirement already satisfied: httpx in /home/gaurang/anaconda3/lib/python3.11/site-packages (from llama-index-core<0.11.0,>=0.10.1->llama-index-embeddings-huggingface) (0.27.0)\n",
      "Requirement already satisfied: llamaindex-py-client<0.2.0,>=0.1.13 in /home/gaurang/anaconda3/lib/python3.11/site-packages (from llama-index-core<0.11.0,>=0.10.1->llama-index-embeddings-huggingface) (0.1.13)\n",
      "Requirement already satisfied: nest-asyncio<2.0.0,>=1.5.8 in /home/gaurang/anaconda3/lib/python3.11/site-packages (from llama-index-core<0.11.0,>=0.10.1->llama-index-embeddings-huggingface) (1.6.0)\n",
      "Requirement already satisfied: networkx>=3.0 in /home/gaurang/anaconda3/lib/python3.11/site-packages (from llama-index-core<0.11.0,>=0.10.1->llama-index-embeddings-huggingface) (3.2.1)\n",
      "Requirement already satisfied: nltk<4.0.0,>=3.8.1 in /home/gaurang/anaconda3/lib/python3.11/site-packages (from llama-index-core<0.11.0,>=0.10.1->llama-index-embeddings-huggingface) (3.8.1)\n",
      "Requirement already satisfied: numpy in /home/gaurang/anaconda3/lib/python3.11/site-packages (from llama-index-core<0.11.0,>=0.10.1->llama-index-embeddings-huggingface) (1.24.3)\n",
      "Requirement already satisfied: openai>=1.1.0 in /home/gaurang/anaconda3/lib/python3.11/site-packages (from llama-index-core<0.11.0,>=0.10.1->llama-index-embeddings-huggingface) (1.13.3)\n",
      "Requirement already satisfied: pandas in /home/gaurang/anaconda3/lib/python3.11/site-packages (from llama-index-core<0.11.0,>=0.10.1->llama-index-embeddings-huggingface) (1.5.3)\n",
      "Requirement already satisfied: pillow>=9.0.0 in /home/gaurang/anaconda3/lib/python3.11/site-packages (from llama-index-core<0.11.0,>=0.10.1->llama-index-embeddings-huggingface) (9.4.0)\n",
      "Requirement already satisfied: tenacity<9.0.0,>=8.2.0 in /home/gaurang/anaconda3/lib/python3.11/site-packages (from llama-index-core<0.11.0,>=0.10.1->llama-index-embeddings-huggingface) (8.2.3)\n",
      "Requirement already satisfied: tiktoken>=0.3.3 in /home/gaurang/anaconda3/lib/python3.11/site-packages (from llama-index-core<0.11.0,>=0.10.1->llama-index-embeddings-huggingface) (0.6.0)\n",
      "Requirement already satisfied: typing-inspect>=0.8.0 in /home/gaurang/anaconda3/lib/python3.11/site-packages (from llama-index-core<0.11.0,>=0.10.1->llama-index-embeddings-huggingface) (0.9.0)\n",
      "Requirement already satisfied: sympy in /home/gaurang/anaconda3/lib/python3.11/site-packages (from torch<3.0.0,>=2.1.2->llama-index-embeddings-huggingface) (1.11.1)\n",
      "Requirement already satisfied: jinja2 in /home/gaurang/anaconda3/lib/python3.11/site-packages (from torch<3.0.0,>=2.1.2->llama-index-embeddings-huggingface) (3.1.2)\n",
      "Requirement already satisfied: nvidia-cuda-nvrtc-cu12==12.1.105 in /home/gaurang/anaconda3/lib/python3.11/site-packages (from torch<3.0.0,>=2.1.2->llama-index-embeddings-huggingface) (12.1.105)\n",
      "Requirement already satisfied: nvidia-cuda-runtime-cu12==12.1.105 in /home/gaurang/anaconda3/lib/python3.11/site-packages (from torch<3.0.0,>=2.1.2->llama-index-embeddings-huggingface) (12.1.105)\n",
      "Requirement already satisfied: nvidia-cuda-cupti-cu12==12.1.105 in /home/gaurang/anaconda3/lib/python3.11/site-packages (from torch<3.0.0,>=2.1.2->llama-index-embeddings-huggingface) (12.1.105)\n",
      "Requirement already satisfied: nvidia-cudnn-cu12==8.9.2.26 in /home/gaurang/anaconda3/lib/python3.11/site-packages (from torch<3.0.0,>=2.1.2->llama-index-embeddings-huggingface) (8.9.2.26)\n",
      "Requirement already satisfied: nvidia-cublas-cu12==12.1.3.1 in /home/gaurang/anaconda3/lib/python3.11/site-packages (from torch<3.0.0,>=2.1.2->llama-index-embeddings-huggingface) (12.1.3.1)\n",
      "Requirement already satisfied: nvidia-cufft-cu12==11.0.2.54 in /home/gaurang/anaconda3/lib/python3.11/site-packages (from torch<3.0.0,>=2.1.2->llama-index-embeddings-huggingface) (11.0.2.54)\n",
      "Requirement already satisfied: nvidia-curand-cu12==10.3.2.106 in /home/gaurang/anaconda3/lib/python3.11/site-packages (from torch<3.0.0,>=2.1.2->llama-index-embeddings-huggingface) (10.3.2.106)\n",
      "Requirement already satisfied: nvidia-cusolver-cu12==11.4.5.107 in /home/gaurang/anaconda3/lib/python3.11/site-packages (from torch<3.0.0,>=2.1.2->llama-index-embeddings-huggingface) (11.4.5.107)\n",
      "Requirement already satisfied: nvidia-cusparse-cu12==12.1.0.106 in /home/gaurang/anaconda3/lib/python3.11/site-packages (from torch<3.0.0,>=2.1.2->llama-index-embeddings-huggingface) (12.1.0.106)\n",
      "Collecting nvidia-nccl-cu12==2.19.3 (from torch<3.0.0,>=2.1.2->llama-index-embeddings-huggingface)\n",
      "  Downloading nvidia_nccl_cu12-2.19.3-py3-none-manylinux1_x86_64.whl (166.0 MB)\n",
      "\u001b[2K     \u001b[38;2;114;156;31m━━━━━━━━━━━━━━━━━━━━━━━━━━━━━━━━━━━━━━━\u001b[0m \u001b[32m166.0/166.0 MB\u001b[0m \u001b[31m5.0 MB/s\u001b[0m eta \u001b[36m0:00:00\u001b[0mm eta \u001b[36m0:00:01\u001b[0m[36m0:00:01\u001b[0m\n",
      "\u001b[?25hRequirement already satisfied: nvidia-nvtx-cu12==12.1.105 in /home/gaurang/anaconda3/lib/python3.11/site-packages (from torch<3.0.0,>=2.1.2->llama-index-embeddings-huggingface) (12.1.105)\n",
      "Collecting triton==2.2.0 (from torch<3.0.0,>=2.1.2->llama-index-embeddings-huggingface)\n",
      "  Downloading triton-2.2.0-cp311-cp311-manylinux_2_17_x86_64.manylinux2014_x86_64.whl (167.9 MB)\n",
      "\u001b[2K     \u001b[38;2;114;156;31m━━━━━━━━━━━━━━━━━━━━━━━━━━━━━━━━━━━━━━━\u001b[0m \u001b[32m167.9/167.9 MB\u001b[0m \u001b[31m5.0 MB/s\u001b[0m eta \u001b[36m0:00:00\u001b[0mm eta \u001b[36m0:00:01\u001b[0m[36m0:00:01\u001b[0m\n",
      "\u001b[?25hRequirement already satisfied: nvidia-nvjitlink-cu12 in /home/gaurang/anaconda3/lib/python3.11/site-packages (from nvidia-cusolver-cu12==11.4.5.107->torch<3.0.0,>=2.1.2->llama-index-embeddings-huggingface) (12.3.52)\n",
      "Requirement already satisfied: regex!=2019.12.17 in /home/gaurang/anaconda3/lib/python3.11/site-packages (from transformers<5.0.0,>=4.37.0->llama-index-embeddings-huggingface) (2022.7.9)\n",
      "Requirement already satisfied: tokenizers<0.19,>=0.14 in /home/gaurang/anaconda3/lib/python3.11/site-packages (from transformers<5.0.0,>=4.37.0->llama-index-embeddings-huggingface) (0.15.2)\n",
      "Collecting safetensors>=0.4.1 (from transformers<5.0.0,>=4.37.0->llama-index-embeddings-huggingface)\n",
      "  Downloading safetensors-0.4.2-cp311-cp311-manylinux_2_17_x86_64.manylinux2014_x86_64.whl (1.3 MB)\n",
      "\u001b[2K     \u001b[38;2;114;156;31m━━━━━━━━━━━━━━━━━━━━━━━━━━━━━━━━━━━━━━━━\u001b[0m \u001b[32m1.3/1.3 MB\u001b[0m \u001b[31m5.9 MB/s\u001b[0m eta \u001b[36m0:00:00\u001b[0m[36m0:00:01\u001b[0m[36m0:00:01\u001b[0m:01\u001b[0m\n",
      "\u001b[?25hRequirement already satisfied: aiosignal>=1.1.2 in /home/gaurang/anaconda3/lib/python3.11/site-packages (from aiohttp->huggingface-hub[inference]>=0.19.0->llama-index-embeddings-huggingface) (1.2.0)\n",
      "Requirement already satisfied: attrs>=17.3.0 in /home/gaurang/anaconda3/lib/python3.11/site-packages (from aiohttp->huggingface-hub[inference]>=0.19.0->llama-index-embeddings-huggingface) (22.1.0)\n",
      "Requirement already satisfied: frozenlist>=1.1.1 in /home/gaurang/anaconda3/lib/python3.11/site-packages (from aiohttp->huggingface-hub[inference]>=0.19.0->llama-index-embeddings-huggingface) (1.3.3)\n",
      "Requirement already satisfied: multidict<7.0,>=4.5 in /home/gaurang/anaconda3/lib/python3.11/site-packages (from aiohttp->huggingface-hub[inference]>=0.19.0->llama-index-embeddings-huggingface) (6.0.2)\n",
      "Requirement already satisfied: yarl<2.0,>=1.0 in /home/gaurang/anaconda3/lib/python3.11/site-packages (from aiohttp->huggingface-hub[inference]>=0.19.0->llama-index-embeddings-huggingface) (1.8.1)\n",
      "Requirement already satisfied: wrapt<2,>=1.10 in /home/gaurang/anaconda3/lib/python3.11/site-packages (from deprecated>=1.2.9.3->llama-index-core<0.11.0,>=0.10.1->llama-index-embeddings-huggingface) (1.14.1)\n",
      "Requirement already satisfied: anyio in /home/gaurang/anaconda3/lib/python3.11/site-packages (from httpx->llama-index-core<0.11.0,>=0.10.1->llama-index-embeddings-huggingface) (3.5.0)\n",
      "Requirement already satisfied: certifi in /home/gaurang/anaconda3/lib/python3.11/site-packages (from httpx->llama-index-core<0.11.0,>=0.10.1->llama-index-embeddings-huggingface) (2023.5.7)\n",
      "Requirement already satisfied: httpcore==1.* in /home/gaurang/anaconda3/lib/python3.11/site-packages (from httpx->llama-index-core<0.11.0,>=0.10.1->llama-index-embeddings-huggingface) (1.0.4)\n",
      "Requirement already satisfied: idna in /home/gaurang/anaconda3/lib/python3.11/site-packages (from httpx->llama-index-core<0.11.0,>=0.10.1->llama-index-embeddings-huggingface) (3.4)\n",
      "Requirement already satisfied: sniffio in /home/gaurang/anaconda3/lib/python3.11/site-packages (from httpx->llama-index-core<0.11.0,>=0.10.1->llama-index-embeddings-huggingface) (1.2.0)\n",
      "Requirement already satisfied: h11<0.15,>=0.13 in /home/gaurang/anaconda3/lib/python3.11/site-packages (from httpcore==1.*->httpx->llama-index-core<0.11.0,>=0.10.1->llama-index-embeddings-huggingface) (0.14.0)\n",
      "Requirement already satisfied: click in /home/gaurang/anaconda3/lib/python3.11/site-packages (from nltk<4.0.0,>=3.8.1->llama-index-core<0.11.0,>=0.10.1->llama-index-embeddings-huggingface) (8.0.4)\n",
      "Requirement already satisfied: joblib in /home/gaurang/anaconda3/lib/python3.11/site-packages (from nltk<4.0.0,>=3.8.1->llama-index-core<0.11.0,>=0.10.1->llama-index-embeddings-huggingface) (1.2.0)\n",
      "Requirement already satisfied: distro<2,>=1.7.0 in /home/gaurang/anaconda3/lib/python3.11/site-packages (from openai>=1.1.0->llama-index-core<0.11.0,>=0.10.1->llama-index-embeddings-huggingface) (1.9.0)\n",
      "Requirement already satisfied: annotated-types>=0.4.0 in /home/gaurang/anaconda3/lib/python3.11/site-packages (from pydantic<3.0,>1.1->huggingface-hub[inference]>=0.19.0->llama-index-embeddings-huggingface) (0.5.0)\n",
      "Requirement already satisfied: pydantic-core==2.10.1 in /home/gaurang/anaconda3/lib/python3.11/site-packages (from pydantic<3.0,>1.1->huggingface-hub[inference]>=0.19.0->llama-index-embeddings-huggingface) (2.10.1)\n",
      "Requirement already satisfied: charset-normalizer<4,>=2 in /home/gaurang/anaconda3/lib/python3.11/site-packages (from requests->huggingface-hub[inference]>=0.19.0->llama-index-embeddings-huggingface) (2.0.4)\n",
      "Requirement already satisfied: urllib3<3,>=1.21.1 in /home/gaurang/anaconda3/lib/python3.11/site-packages (from requests->huggingface-hub[inference]>=0.19.0->llama-index-embeddings-huggingface) (1.26.16)\n",
      "Requirement already satisfied: greenlet!=0.4.17 in /home/gaurang/anaconda3/lib/python3.11/site-packages (from SQLAlchemy[asyncio]>=1.4.49->llama-index-core<0.11.0,>=0.10.1->llama-index-embeddings-huggingface) (2.0.1)\n",
      "Requirement already satisfied: mypy-extensions>=0.3.0 in /home/gaurang/anaconda3/lib/python3.11/site-packages (from typing-inspect>=0.8.0->llama-index-core<0.11.0,>=0.10.1->llama-index-embeddings-huggingface) (0.4.3)\n",
      "Requirement already satisfied: marshmallow<4.0.0,>=3.18.0 in /home/gaurang/anaconda3/lib/python3.11/site-packages (from dataclasses-json->llama-index-core<0.11.0,>=0.10.1->llama-index-embeddings-huggingface) (3.21.1)\n",
      "Requirement already satisfied: MarkupSafe>=2.0 in /home/gaurang/anaconda3/lib/python3.11/site-packages (from jinja2->torch<3.0.0,>=2.1.2->llama-index-embeddings-huggingface) (2.1.1)\n",
      "Requirement already satisfied: python-dateutil>=2.8.1 in /home/gaurang/anaconda3/lib/python3.11/site-packages (from pandas->llama-index-core<0.11.0,>=0.10.1->llama-index-embeddings-huggingface) (2.8.2)\n",
      "Requirement already satisfied: pytz>=2020.1 in /home/gaurang/anaconda3/lib/python3.11/site-packages (from pandas->llama-index-core<0.11.0,>=0.10.1->llama-index-embeddings-huggingface) (2022.7)\n",
      "Requirement already satisfied: mpmath>=0.19 in /home/gaurang/anaconda3/lib/python3.11/site-packages (from sympy->torch<3.0.0,>=2.1.2->llama-index-embeddings-huggingface) (1.2.1)\n",
      "Requirement already satisfied: six>=1.5 in /home/gaurang/anaconda3/lib/python3.11/site-packages (from python-dateutil>=2.8.1->pandas->llama-index-core<0.11.0,>=0.10.1->llama-index-embeddings-huggingface) (1.16.0)\n",
      "Installing collected packages: triton, safetensors, nvidia-nccl-cu12, torch, transformers, llama-index-embeddings-huggingface\n",
      "  Attempting uninstall: triton\n",
      "    Found existing installation: triton 2.1.0\n",
      "    Uninstalling triton-2.1.0:\n",
      "      Successfully uninstalled triton-2.1.0\n",
      "  Attempting uninstall: nvidia-nccl-cu12\n",
      "    Found existing installation: nvidia-nccl-cu12 2.18.1\n",
      "    Uninstalling nvidia-nccl-cu12-2.18.1:\n",
      "      Successfully uninstalled nvidia-nccl-cu12-2.18.1\n",
      "  Attempting uninstall: torch\n",
      "    Found existing installation: torch 2.1.0\n",
      "    Uninstalling torch-2.1.0:\n",
      "      Successfully uninstalled torch-2.1.0\n",
      "  Attempting uninstall: transformers\n",
      "    Found existing installation: transformers 4.29.2\n",
      "    Uninstalling transformers-4.29.2:\n",
      "      Successfully uninstalled transformers-4.29.2\n",
      "\u001b[31mERROR: pip's dependency resolver does not currently take into account all the packages that are installed. This behaviour is the source of the following dependency conflicts.\n",
      "torchvision 0.16.0 requires torch==2.1.0, but you have torch 2.2.1 which is incompatible.\u001b[0m\u001b[31m\n",
      "\u001b[0mSuccessfully installed llama-index-embeddings-huggingface-0.1.4 nvidia-nccl-cu12-2.19.3 safetensors-0.4.2 torch-2.2.1 transformers-4.38.2 triton-2.2.0\n"
     ]
    }
   ],
   "source": [
    "!pip install llama-index-embeddings-huggingface"
   ]
  },
  {
   "cell_type": "code",
   "execution_count": 1,
   "id": "8dd0c7bf",
   "metadata": {},
   "outputs": [],
   "source": [
    "# from llama_index.embeddings.huggingface import HuggingFaceEmbedding\n",
    "# embed_model = HuggingFaceEmbedding(model_name=\"BAAI/bge-small-en-v1.5\")"
   ]
  },
  {
   "cell_type": "code",
   "execution_count": 2,
   "id": "ddf4a4df",
   "metadata": {},
   "outputs": [],
   "source": [
    "\n",
    "\n",
    "# embeddings = embed_model.get_text_embedding(\"Hello Workkkkkkkkld!jjjjjjjjjjjj\")\n",
    "# print(len(embeddings))\n",
    "# print(embeddings[:5])"
   ]
  },
  {
   "cell_type": "code",
   "execution_count": 3,
   "id": "4b3ecf24",
   "metadata": {},
   "outputs": [],
   "source": [
    "# from llama_index.core import VectorStoreIndex,SimpleDirectoryReader\n",
    "# documents=SimpleDirectoryReader(\"../data/AILA_3_docs\").load_data()"
   ]
  },
  {
   "cell_type": "code",
   "execution_count": 16,
   "id": "97b320ca",
   "metadata": {},
   "outputs": [],
   "source": [
    "# index = VectorStoreIndex.from_documents(documents,show_progress=True,embed_model = embed_model)"
   ]
  },
  {
   "cell_type": "code",
   "execution_count": 15,
   "id": "e46505bc",
   "metadata": {},
   "outputs": [],
   "source": [
    "# query_engine=index.as_query_engine(llm='local')"
   ]
  },
  {
   "cell_type": "markdown",
   "id": "5346adc7",
   "metadata": {},
   "source": [
    "## New"
   ]
  },
  {
   "cell_type": "code",
   "execution_count": 10,
   "id": "5b3cea36",
   "metadata": {},
   "outputs": [
    {
     "name": "stdout",
     "output_type": "stream",
     "text": [
      "Collecting llama-index-vector-stores-pinecone\n",
      "  Downloading llama_index_vector_stores_pinecone-0.1.4-py3-none-any.whl (6.3 kB)\n",
      "Requirement already satisfied: llama-index-core<0.11.0,>=0.10.11.post1 in /home/gaurang/anaconda3/lib/python3.11/site-packages (from llama-index-vector-stores-pinecone) (0.10.17)\n",
      "Collecting pinecone-client<4.0.0,>=3.0.2 (from llama-index-vector-stores-pinecone)\n",
      "  Downloading pinecone_client-3.1.0-py3-none-any.whl (210 kB)\n",
      "\u001b[2K     \u001b[38;2;114;156;31m━━━━━━━━━━━━━━━━━━━━━━━━━━━━━━━━━━━━━━━\u001b[0m \u001b[32m211.0/211.0 kB\u001b[0m \u001b[31m2.1 MB/s\u001b[0m eta \u001b[36m0:00:00\u001b[0m MB/s\u001b[0m eta \u001b[36m0:00:01\u001b[0m:01\u001b[0m\n",
      "\u001b[?25hRequirement already satisfied: PyYAML>=6.0.1 in /home/gaurang/anaconda3/lib/python3.11/site-packages (from llama-index-core<0.11.0,>=0.10.11.post1->llama-index-vector-stores-pinecone) (6.0.1)\n",
      "Requirement already satisfied: SQLAlchemy[asyncio]>=1.4.49 in /home/gaurang/anaconda3/lib/python3.11/site-packages (from llama-index-core<0.11.0,>=0.10.11.post1->llama-index-vector-stores-pinecone) (2.0.28)\n",
      "Requirement already satisfied: aiohttp<4.0.0,>=3.8.6 in /home/gaurang/anaconda3/lib/python3.11/site-packages (from llama-index-core<0.11.0,>=0.10.11.post1->llama-index-vector-stores-pinecone) (3.9.3)\n",
      "Requirement already satisfied: dataclasses-json in /home/gaurang/anaconda3/lib/python3.11/site-packages (from llama-index-core<0.11.0,>=0.10.11.post1->llama-index-vector-stores-pinecone) (0.6.4)\n",
      "Requirement already satisfied: deprecated>=1.2.9.3 in /home/gaurang/anaconda3/lib/python3.11/site-packages (from llama-index-core<0.11.0,>=0.10.11.post1->llama-index-vector-stores-pinecone) (1.2.14)\n",
      "Requirement already satisfied: dirtyjson<2.0.0,>=1.0.8 in /home/gaurang/anaconda3/lib/python3.11/site-packages (from llama-index-core<0.11.0,>=0.10.11.post1->llama-index-vector-stores-pinecone) (1.0.8)\n",
      "Requirement already satisfied: fsspec>=2023.5.0 in /home/gaurang/anaconda3/lib/python3.11/site-packages (from llama-index-core<0.11.0,>=0.10.11.post1->llama-index-vector-stores-pinecone) (2024.2.0)\n",
      "Requirement already satisfied: httpx in /home/gaurang/anaconda3/lib/python3.11/site-packages (from llama-index-core<0.11.0,>=0.10.11.post1->llama-index-vector-stores-pinecone) (0.27.0)\n",
      "Requirement already satisfied: llamaindex-py-client<0.2.0,>=0.1.13 in /home/gaurang/anaconda3/lib/python3.11/site-packages (from llama-index-core<0.11.0,>=0.10.11.post1->llama-index-vector-stores-pinecone) (0.1.13)\n",
      "Requirement already satisfied: nest-asyncio<2.0.0,>=1.5.8 in /home/gaurang/anaconda3/lib/python3.11/site-packages (from llama-index-core<0.11.0,>=0.10.11.post1->llama-index-vector-stores-pinecone) (1.6.0)\n",
      "Requirement already satisfied: networkx>=3.0 in /home/gaurang/anaconda3/lib/python3.11/site-packages (from llama-index-core<0.11.0,>=0.10.11.post1->llama-index-vector-stores-pinecone) (3.2.1)\n",
      "Requirement already satisfied: nltk<4.0.0,>=3.8.1 in /home/gaurang/anaconda3/lib/python3.11/site-packages (from llama-index-core<0.11.0,>=0.10.11.post1->llama-index-vector-stores-pinecone) (3.8.1)\n",
      "Requirement already satisfied: numpy in /home/gaurang/anaconda3/lib/python3.11/site-packages (from llama-index-core<0.11.0,>=0.10.11.post1->llama-index-vector-stores-pinecone) (1.24.3)\n",
      "Requirement already satisfied: openai>=1.1.0 in /home/gaurang/anaconda3/lib/python3.11/site-packages (from llama-index-core<0.11.0,>=0.10.11.post1->llama-index-vector-stores-pinecone) (1.13.3)\n",
      "Requirement already satisfied: pandas in /home/gaurang/anaconda3/lib/python3.11/site-packages (from llama-index-core<0.11.0,>=0.10.11.post1->llama-index-vector-stores-pinecone) (1.5.3)\n",
      "Requirement already satisfied: pillow>=9.0.0 in /home/gaurang/anaconda3/lib/python3.11/site-packages (from llama-index-core<0.11.0,>=0.10.11.post1->llama-index-vector-stores-pinecone) (9.4.0)\n",
      "Requirement already satisfied: requests>=2.31.0 in /home/gaurang/anaconda3/lib/python3.11/site-packages (from llama-index-core<0.11.0,>=0.10.11.post1->llama-index-vector-stores-pinecone) (2.31.0)\n",
      "Requirement already satisfied: tenacity<9.0.0,>=8.2.0 in /home/gaurang/anaconda3/lib/python3.11/site-packages (from llama-index-core<0.11.0,>=0.10.11.post1->llama-index-vector-stores-pinecone) (8.2.3)\n",
      "Requirement already satisfied: tiktoken>=0.3.3 in /home/gaurang/anaconda3/lib/python3.11/site-packages (from llama-index-core<0.11.0,>=0.10.11.post1->llama-index-vector-stores-pinecone) (0.6.0)\n",
      "Requirement already satisfied: tqdm<5.0.0,>=4.66.1 in /home/gaurang/anaconda3/lib/python3.11/site-packages (from llama-index-core<0.11.0,>=0.10.11.post1->llama-index-vector-stores-pinecone) (4.66.2)\n",
      "Requirement already satisfied: typing-extensions>=4.5.0 in /home/gaurang/anaconda3/lib/python3.11/site-packages (from llama-index-core<0.11.0,>=0.10.11.post1->llama-index-vector-stores-pinecone) (4.10.0)\n",
      "Requirement already satisfied: typing-inspect>=0.8.0 in /home/gaurang/anaconda3/lib/python3.11/site-packages (from llama-index-core<0.11.0,>=0.10.11.post1->llama-index-vector-stores-pinecone) (0.9.0)\n",
      "Requirement already satisfied: certifi>=2019.11.17 in /home/gaurang/anaconda3/lib/python3.11/site-packages (from pinecone-client<4.0.0,>=3.0.2->llama-index-vector-stores-pinecone) (2023.5.7)\n",
      "Requirement already satisfied: urllib3>=1.26.0 in /home/gaurang/anaconda3/lib/python3.11/site-packages (from pinecone-client<4.0.0,>=3.0.2->llama-index-vector-stores-pinecone) (1.26.16)\n",
      "Requirement already satisfied: aiosignal>=1.1.2 in /home/gaurang/anaconda3/lib/python3.11/site-packages (from aiohttp<4.0.0,>=3.8.6->llama-index-core<0.11.0,>=0.10.11.post1->llama-index-vector-stores-pinecone) (1.2.0)\n",
      "Requirement already satisfied: attrs>=17.3.0 in /home/gaurang/anaconda3/lib/python3.11/site-packages (from aiohttp<4.0.0,>=3.8.6->llama-index-core<0.11.0,>=0.10.11.post1->llama-index-vector-stores-pinecone) (22.1.0)\n",
      "Requirement already satisfied: frozenlist>=1.1.1 in /home/gaurang/anaconda3/lib/python3.11/site-packages (from aiohttp<4.0.0,>=3.8.6->llama-index-core<0.11.0,>=0.10.11.post1->llama-index-vector-stores-pinecone) (1.3.3)\n",
      "Requirement already satisfied: multidict<7.0,>=4.5 in /home/gaurang/anaconda3/lib/python3.11/site-packages (from aiohttp<4.0.0,>=3.8.6->llama-index-core<0.11.0,>=0.10.11.post1->llama-index-vector-stores-pinecone) (6.0.2)\n",
      "Requirement already satisfied: yarl<2.0,>=1.0 in /home/gaurang/anaconda3/lib/python3.11/site-packages (from aiohttp<4.0.0,>=3.8.6->llama-index-core<0.11.0,>=0.10.11.post1->llama-index-vector-stores-pinecone) (1.8.1)\n",
      "Requirement already satisfied: wrapt<2,>=1.10 in /home/gaurang/anaconda3/lib/python3.11/site-packages (from deprecated>=1.2.9.3->llama-index-core<0.11.0,>=0.10.11.post1->llama-index-vector-stores-pinecone) (1.14.1)\n",
      "Requirement already satisfied: pydantic>=1.10 in /home/gaurang/anaconda3/lib/python3.11/site-packages (from llamaindex-py-client<0.2.0,>=0.1.13->llama-index-core<0.11.0,>=0.10.11.post1->llama-index-vector-stores-pinecone) (2.4.2)\n",
      "Requirement already satisfied: anyio in /home/gaurang/anaconda3/lib/python3.11/site-packages (from httpx->llama-index-core<0.11.0,>=0.10.11.post1->llama-index-vector-stores-pinecone) (3.5.0)\n",
      "Requirement already satisfied: httpcore==1.* in /home/gaurang/anaconda3/lib/python3.11/site-packages (from httpx->llama-index-core<0.11.0,>=0.10.11.post1->llama-index-vector-stores-pinecone) (1.0.4)\n",
      "Requirement already satisfied: idna in /home/gaurang/anaconda3/lib/python3.11/site-packages (from httpx->llama-index-core<0.11.0,>=0.10.11.post1->llama-index-vector-stores-pinecone) (3.4)\n",
      "Requirement already satisfied: sniffio in /home/gaurang/anaconda3/lib/python3.11/site-packages (from httpx->llama-index-core<0.11.0,>=0.10.11.post1->llama-index-vector-stores-pinecone) (1.2.0)\n",
      "Requirement already satisfied: h11<0.15,>=0.13 in /home/gaurang/anaconda3/lib/python3.11/site-packages (from httpcore==1.*->httpx->llama-index-core<0.11.0,>=0.10.11.post1->llama-index-vector-stores-pinecone) (0.14.0)\n",
      "Requirement already satisfied: click in /home/gaurang/anaconda3/lib/python3.11/site-packages (from nltk<4.0.0,>=3.8.1->llama-index-core<0.11.0,>=0.10.11.post1->llama-index-vector-stores-pinecone) (8.0.4)\n",
      "Requirement already satisfied: joblib in /home/gaurang/anaconda3/lib/python3.11/site-packages (from nltk<4.0.0,>=3.8.1->llama-index-core<0.11.0,>=0.10.11.post1->llama-index-vector-stores-pinecone) (1.2.0)\n",
      "Requirement already satisfied: regex>=2021.8.3 in /home/gaurang/anaconda3/lib/python3.11/site-packages (from nltk<4.0.0,>=3.8.1->llama-index-core<0.11.0,>=0.10.11.post1->llama-index-vector-stores-pinecone) (2022.7.9)\n"
     ]
    },
    {
     "name": "stdout",
     "output_type": "stream",
     "text": [
      "Requirement already satisfied: distro<2,>=1.7.0 in /home/gaurang/anaconda3/lib/python3.11/site-packages (from openai>=1.1.0->llama-index-core<0.11.0,>=0.10.11.post1->llama-index-vector-stores-pinecone) (1.9.0)\n",
      "Requirement already satisfied: charset-normalizer<4,>=2 in /home/gaurang/anaconda3/lib/python3.11/site-packages (from requests>=2.31.0->llama-index-core<0.11.0,>=0.10.11.post1->llama-index-vector-stores-pinecone) (2.0.4)\n",
      "Requirement already satisfied: greenlet!=0.4.17 in /home/gaurang/anaconda3/lib/python3.11/site-packages (from SQLAlchemy[asyncio]>=1.4.49->llama-index-core<0.11.0,>=0.10.11.post1->llama-index-vector-stores-pinecone) (2.0.1)\n",
      "Requirement already satisfied: mypy-extensions>=0.3.0 in /home/gaurang/anaconda3/lib/python3.11/site-packages (from typing-inspect>=0.8.0->llama-index-core<0.11.0,>=0.10.11.post1->llama-index-vector-stores-pinecone) (0.4.3)\n",
      "Requirement already satisfied: marshmallow<4.0.0,>=3.18.0 in /home/gaurang/anaconda3/lib/python3.11/site-packages (from dataclasses-json->llama-index-core<0.11.0,>=0.10.11.post1->llama-index-vector-stores-pinecone) (3.21.1)\n",
      "Requirement already satisfied: python-dateutil>=2.8.1 in /home/gaurang/anaconda3/lib/python3.11/site-packages (from pandas->llama-index-core<0.11.0,>=0.10.11.post1->llama-index-vector-stores-pinecone) (2.8.2)\n",
      "Requirement already satisfied: pytz>=2020.1 in /home/gaurang/anaconda3/lib/python3.11/site-packages (from pandas->llama-index-core<0.11.0,>=0.10.11.post1->llama-index-vector-stores-pinecone) (2022.7)\n",
      "Requirement already satisfied: packaging>=17.0 in /home/gaurang/anaconda3/lib/python3.11/site-packages (from marshmallow<4.0.0,>=3.18.0->dataclasses-json->llama-index-core<0.11.0,>=0.10.11.post1->llama-index-vector-stores-pinecone) (23.0)\n",
      "Requirement already satisfied: annotated-types>=0.4.0 in /home/gaurang/anaconda3/lib/python3.11/site-packages (from pydantic>=1.10->llamaindex-py-client<0.2.0,>=0.1.13->llama-index-core<0.11.0,>=0.10.11.post1->llama-index-vector-stores-pinecone) (0.5.0)\n",
      "Requirement already satisfied: pydantic-core==2.10.1 in /home/gaurang/anaconda3/lib/python3.11/site-packages (from pydantic>=1.10->llamaindex-py-client<0.2.0,>=0.1.13->llama-index-core<0.11.0,>=0.10.11.post1->llama-index-vector-stores-pinecone) (2.10.1)\n",
      "Requirement already satisfied: six>=1.5 in /home/gaurang/anaconda3/lib/python3.11/site-packages (from python-dateutil>=2.8.1->pandas->llama-index-core<0.11.0,>=0.10.11.post1->llama-index-vector-stores-pinecone) (1.16.0)\n",
      "Installing collected packages: pinecone-client, llama-index-vector-stores-pinecone\n",
      "Successfully installed llama-index-vector-stores-pinecone-0.1.4 pinecone-client-3.1.0\n"
     ]
    }
   ],
   "source": [
    "!pip install llama-index-vector-stores-pinecone"
   ]
  },
  {
   "cell_type": "markdown",
   "id": "b12d7dda",
   "metadata": {},
   "source": [
    "- https://docs.pinecone.io/docs/new-api\n",
    "- https://docs.llamaindex.ai/en/stable/examples/low_level/retrieval.html"
   ]
  },
  {
   "cell_type": "markdown",
   "id": "718d09d1",
   "metadata": {},
   "source": [
    "# Retrieve api key "
   ]
  },
  {
   "cell_type": "code",
   "execution_count": 1,
   "id": "5d2a4e9a",
   "metadata": {},
   "outputs": [],
   "source": [
    "import json\n",
    "import pinecone\n",
    "from pinecone import Pinecone, PodSpec\n",
    "\n",
    "f = open('config.json')\n",
    " \n",
    "\n",
    "data = json.load(f)\n",
    "api_key = data['api_key']\n",
    "\n",
    "pc = pinecone.Pinecone(\n",
    "        api_key=api_key\n",
    "    )\n"
   ]
  },
  {
   "cell_type": "markdown",
   "id": "2fa6b89f",
   "metadata": {},
   "source": [
    "# Create index"
   ]
  },
  {
   "cell_type": "code",
   "execution_count": 2,
   "id": "2d66cac8",
   "metadata": {},
   "outputs": [],
   "source": [
    "pc.create_index(\n",
    "    \"judgments\", dimension=384, metric=\"cosine\",spec=PodSpec(\n",
    "    environment=\"gcp-starter\"\n",
    "  )\n",
    ")"
   ]
  },
  {
   "cell_type": "code",
   "execution_count": 3,
   "id": "56defe3f",
   "metadata": {},
   "outputs": [],
   "source": [
    "active_indexes = pc.list_indexes()"
   ]
  },
  {
   "cell_type": "code",
   "execution_count": 4,
   "id": "c9b9ac4f",
   "metadata": {},
   "outputs": [
    {
     "data": {
      "text/plain": [
       "{'indexes': [{'dimension': 384,\n",
       "              'host': 'judgments-m7a6ou0.svc.gcp-starter.pinecone.io',\n",
       "              'metric': 'cosine',\n",
       "              'name': 'judgments',\n",
       "              'spec': {'pod': {'environment': 'gcp-starter',\n",
       "                               'pod_type': 'starter',\n",
       "                               'pods': 1,\n",
       "                               'replicas': 1,\n",
       "                               'shards': 1}},\n",
       "              'status': {'ready': True, 'state': 'Ready'}}]}"
      ]
     },
     "execution_count": 4,
     "metadata": {},
     "output_type": "execute_result"
    }
   ],
   "source": [
    "active_indexes"
   ]
  },
  {
   "cell_type": "code",
   "execution_count": 5,
   "id": "4f48856d",
   "metadata": {},
   "outputs": [],
   "source": [
    "pinecone_index = pinecone.Index(host=\"judgments-m7a6ou0.svc.gcp-starter.pinecone.io\",api_key=api_key)"
   ]
  },
  {
   "cell_type": "code",
   "execution_count": 6,
   "id": "8ee95d09",
   "metadata": {},
   "outputs": [],
   "source": [
    "from llama_index.vector_stores.pinecone import PineconeVectorStore"
   ]
  },
  {
   "cell_type": "code",
   "execution_count": 7,
   "id": "c1139e1a",
   "metadata": {},
   "outputs": [],
   "source": [
    "vector_store = PineconeVectorStore(pinecone_index=pinecone_index)"
   ]
  },
  {
   "cell_type": "code",
   "execution_count": 8,
   "id": "9fd1c7fe",
   "metadata": {},
   "outputs": [],
   "source": [
    "from llama_index.core import VectorStoreIndex,SimpleDirectoryReader\n",
    "# experimenting with few docs only\n",
    "documents=SimpleDirectoryReader(\"../data/AILA_3_docs\").load_data()"
   ]
  },
  {
   "cell_type": "code",
   "execution_count": 9,
   "id": "aa8c0915",
   "metadata": {},
   "outputs": [],
   "source": [
    "from llama_index.core import VectorStoreIndex\n",
    "from llama_index.core.node_parser import SentenceSplitter\n",
    "from llama_index.core import StorageContext"
   ]
  },
  {
   "cell_type": "code",
   "execution_count": 10,
   "id": "67486b43",
   "metadata": {},
   "outputs": [],
   "source": [
    "from llama_index.embeddings.huggingface import HuggingFaceEmbedding\n",
    "embed_model = HuggingFaceEmbedding(model_name=\"BAAI/bge-small-en-v1.5\")"
   ]
  },
  {
   "cell_type": "code",
   "execution_count": 11,
   "id": "0de09829",
   "metadata": {},
   "outputs": [],
   "source": [
    "\n",
    "\n",
    "# embeddings = embed_model.get_text_embedding(\"Hello Workkkkkkkkld!jjjjjjjjjjjj\")\n",
    "# print(len(embeddings))\n",
    "# print(embeddings[:5])"
   ]
  },
  {
   "cell_type": "code",
   "execution_count": null,
   "id": "4dafb9b9",
   "metadata": {},
   "outputs": [],
   "source": []
  },
  {
   "cell_type": "code",
   "execution_count": 12,
   "id": "f6282308",
   "metadata": {
    "scrolled": false
   },
   "outputs": [
    {
     "data": {
      "application/vnd.jupyter.widget-view+json": {
       "model_id": "061a8421222b4669a774b820b50624b0",
       "version_major": 2,
       "version_minor": 0
      },
      "text/plain": [
       "Upserted vectors:   0%|          | 0/63 [00:00<?, ?it/s]"
      ]
     },
     "metadata": {},
     "output_type": "display_data"
    }
   ],
   "source": [
    "# splitter = SentenceSplitter(chunk_size=1024)\n",
    "storage_context = StorageContext.from_defaults(vector_store=vector_store)\n",
    "index = VectorStoreIndex.from_documents(\n",
    "    documents, storage_context=storage_context,embed_model=embed_model\n",
    ")\n",
    "# , transformations=[splitter]"
   ]
  },
  {
   "cell_type": "code",
   "execution_count": 14,
   "id": "ac5e5833",
   "metadata": {},
   "outputs": [],
   "source": [
    "query_str = \"bullet injury\"\n",
    "query_embedding = embed_model.get_query_embedding(query_str)\n",
    "from llama_index.core.vector_stores import VectorStoreQuery\n",
    "\n",
    "query_mode = \"default\"\n",
    "# query_mode = \"sparse\"\n",
    "# query_mode = \"hybrid\"\n",
    "\n",
    "vector_store_query = VectorStoreQuery(\n",
    "    query_embedding=query_embedding, similarity_top_k=3, mode=query_mode\n",
    ")"
   ]
  },
  {
   "cell_type": "code",
   "execution_count": 15,
   "id": "7206eb52",
   "metadata": {},
   "outputs": [
    {
     "data": {
      "text/plain": [
       "VectorStoreQueryResult(nodes=[TextNode(id_='a5995c60-1adb-4a0b-9eb2-67748493357f', embedding=[-0.104006581, -0.00328598917, -0.038903255, -0.0387079753, 0.0127530852, -0.0208805148, 0.0741846636, -0.0221305, -0.031491559, -0.0218091682, -0.0217143521, -0.0681251958, -0.00307713891, 0.00479482859, 0.00466926489, 0.0388472155, 0.00755820191, -0.0216547176, -0.0032304076, -0.000146882128, -0.0182840116, -0.0117754703, 0.00940509886, -0.0438353941, 0.0420045815, -0.035853181, -0.0184430853, -0.00562533876, -0.0164358076, -0.185403883, 0.0296747517, -0.0235272497, -0.0527996607, -0.0345679522, -0.0507979617, -0.0544406921, 0.0224418882, 0.051485952, 0.00224965904, -0.0218994077, -0.0213300698, 0.0748213902, 0.0478513055, 0.0413412638, 0.00705998158, 0.0726881698, -0.0148975411, -0.0292490534, 0.0528767034, 0.00526062399, -0.0347469114, -0.0270949565, 0.0304861981, -0.00785066467, -0.0376426354, -0.0691781864, 0.0426818095, 0.0867295, 0.0577697493, 0.0360237136, 0.0404433869, 0.0263384804, -0.162029505, 0.0258626975, 0.0333335102, -0.0478838161, -0.0324731059, -0.0593426414, 0.0806021094, 0.0676252469, 0.027171962, 0.0274847709, 0.0247152317, 0.0292317364, -0.024475405, -0.0643739253, 0.0422844216, 0.0445661061, -0.0225731898, -0.0148008494, 0.00758588687, -0.0104949512, -0.0178051591, -0.0160238221, -0.0525488928, -0.0231770948, 0.027692141, -0.067504257, -0.0366272442, -0.00190561439, 0.0865225047, 0.0127520245, 0.0240121596, 0.0180346034, -0.0158700701, -0.0325261876, -0.00759820547, 0.0466162078, 0.00548218, 0.414652616, -0.0190818943, -0.0366031528, 0.0161108132, 0.0171510242, -0.0210664477, -0.0203383677, -0.0206131656, -0.0342655443, 0.0267319959, -0.00679816119, 0.0817186, 0.0243948754, 0.00371571258, 0.0359939523, -0.0741856173, 0.0562358834, 0.0637654513, 0.000984690851, -0.0512216, -0.0350151919, -0.0139634693, -0.0572504736, -0.0389330834, -0.0787416473, -0.0340549201, -0.0517184697, -0.0215543378, 0.0669546053, 0.058974348, -0.0183279105, 0.0371334963, -0.102358557, 0.0187556054, -0.070008181, 0.0252770018, 0.0452187732, 0.088231042, 0.031405814, 0.0528931096, -0.00467659766, -0.00746112037, -0.0853640959, -0.0285991039, -0.0179804433, 0.0018956929, 0.0928020328, -0.00616776943, -0.0331606567, -0.0255592503, -0.0252577625, -0.0519406274, 0.0173798762, -0.00290469662, -0.00187297887, -0.0144429887, 0.0116157718, -0.00375554338, 0.0640096888, -0.00616798736, -0.01409142, 0.0751136392, 0.0226253197, -0.0514082499, 0.051294487, 0.0227256566, -0.000671060232, 0.0153846852, -7.43828277e-05, 0.019260332, -0.0065974067, 0.0145019675, 0.0205514152, -0.038347967, -0.065304555, 0.00750196585, -0.023440741, 0.00957618561, -0.0199734364, 0.0249065, 0.0217159465, 0.0547102466, -0.0181472041, -0.0247602202, 0.0572068207, 0.00724642351, -0.0359486565, -0.0596839041, -0.00945187, 0.0606381968, 0.108039767, 0.0245690476, -0.0041605942, -0.0378225334, 0.0513003729, -0.0231058169, -0.045541, 0.0390262865, -0.00892935321, -0.00759703619, 0.0149470661, 0.0356370062, -0.0263176318, -0.0660066232, 0.00692594144, 0.0290554725, 0.0756055564, 0.036313884, -0.030205369, -0.0436639376, -0.0215025, 0.0292406362, -0.0224967562, -0.07414224, -0.00962136127, 0.0190369636, -0.0198257975, 0.0257868115, 0.0255313739, -0.016328495, -0.00092977623, -0.036334198, -0.0189042389, 0.0362172723, -0.34549284, -0.0486876331, -0.0192163941, -0.00823242776, 0.0521525815, -0.0125803603, 0.020724196, 0.0326667503, -0.0755654275, 0.00763018662, 0.0429334082, -0.0216282718, -0.0431486852, 0.00124065846, -0.00814218819, 0.0172826909, -0.0240457188, 0.0296371318, -0.0291768368, 0.0291806608, -0.0193137825, 0.0275205728, -0.060104467, 0.0191991497, 0.076890409, 0.0289031155, 0.122452155, 0.0499631874, -0.0235773474, 0.00154808105, -0.033571668, 0.00915337168, -0.0269406606, -0.0545347892, 0.0229621753, -0.0225404948, -0.0231337845, 0.0440711863, -0.00362972799, 0.0577561669, -0.020945821, 0.0258490425, -0.0449246168, -0.0491984226, 0.00949277915, -0.0377672687, -0.0597546585, 0.0258455221, 0.0160488207, 0.020777829, 0.0280933678, 0.0195608921, -0.0486643128, 0.0118158897, 0.00757450704, 0.0108757941, -0.0779711753, 0.0545369945, -0.0427053943, -0.0123474542, -0.0247003734, 0.0829445794, 0.0653213337, -0.0523989312, 0.00600423897, -0.019986799, 0.0391577408, 0.0163375977, -0.032568749, 0.0405990034, -0.0199061353, 0.0940888822, -0.0440155827, -0.0436307527, 0.0440289676, 0.0559077226, 0.0340400152, 0.0159270428, -0.015386587, 0.0261395555, 0.0392761491, 0.0026468893, 0.059872631, 0.0261217076, 0.015785763, 0.0121726096, 0.0133250263, -0.00988566317, 0.00568192499, -0.0159686375, -0.0598806627, 0.0120602474, -0.0320291929, -0.0155138774, -0.0303952787, -0.00975082163, -0.248665124, 0.0176246185, 0.0520228706, 0.0426051281, -0.0176158436, -0.0353826247, 0.0145824458, -0.02252982, 0.00944727845, 0.0465201326, 0.0231623482, 0.0203998499, 0.0122889429, -0.00537873525, -0.0704186484, 0.00108122942, -0.0080750566, -0.0135362605, -0.00317704678, -0.0124711012, 0.0101260031, 0.0410887338, 0.102199815, -0.0283252709, -0.0250315238, -0.037950594, -0.0133719174, -0.00562078226, -0.0757634491, 0.0182853658, 0.0134691317, -0.0449720472, 0.0651357472, -0.0293135885, -0.0243909545, -0.0138856983, 0.0226068534, 0.0719053745, 0.0267464202, 0.0380033851, -0.0312574804, -0.0247253422, -0.0220844559, -0.0353590809, 0.0688062161, 0.0299569238, -0.0308405757, -0.04626, -0.00515612867, -0.0112814764, -0.0144646969, -0.00945990812, 0.0223913845, 0.0115343826, 0.00257759565, -0.00249046227, 0.0331086367, -0.0252961665, 0.0231523719, 0.0316705145, 0.0177903026, 0.118108667, 0.0295407921, 0.0674055517, 0.0699902847], metadata={'file_path': '/home/gaurang/DSAC/RAG-legal-data/../data/AILA_3_docs/C6.txt', 'file_name': '/home/gaurang/DSAC/RAG-legal-data/../data/AILA_3_docs/C6.txt', 'file_type': 'text/plain', 'file_size': 67324, 'creation_date': '2024-03-08', 'last_modified_date': '2020-05-19'}, excluded_embed_metadata_keys=['file_name', 'file_type', 'file_size', 'creation_date', 'last_modified_date', 'last_accessed_date'], excluded_llm_metadata_keys=['file_name', 'file_type', 'file_size', 'creation_date', 'last_modified_date', 'last_accessed_date'], relationships={<NodeRelationship.SOURCE: '1'>: RelatedNodeInfo(node_id='7857e228-2367-40ef-a46d-02335f5cb17e', node_type=<ObjectType.DOCUMENT: '4'>, metadata={'file_path': '/home/gaurang/DSAC/RAG-legal-data/../data/AILA_3_docs/C6.txt', 'file_name': '/home/gaurang/DSAC/RAG-legal-data/../data/AILA_3_docs/C6.txt', 'file_type': 'text/plain', 'file_size': 67324, 'creation_date': '2024-03-08', 'last_modified_date': '2020-05-19'}, hash='e64845f1eba871e55bcf98b75f8384cc7223e9f63da96db4c251a018f9cf0c57'), <NodeRelationship.PREVIOUS: '2'>: RelatedNodeInfo(node_id='8390244b-6dc9-4a8d-8d85-a71957a7d243', node_type=<ObjectType.TEXT: '1'>, metadata={'file_path': '/home/gaurang/DSAC/RAG-legal-data/../data/AILA_3_docs/C6.txt', 'file_name': '/home/gaurang/DSAC/RAG-legal-data/../data/AILA_3_docs/C6.txt', 'file_type': 'text/plain', 'file_size': 67324, 'creation_date': '2024-03-08', 'last_modified_date': '2020-05-19'}, hash='3b27a36b274410697cf4776e2edf682ad1beab8001d3037e6c8b4a6b1c79e2a8'), <NodeRelationship.NEXT: '3'>: RelatedNodeInfo(node_id='e74faff2-855c-4fa8-8ee6-99f76423de55', node_type=<ObjectType.TEXT: '1'>, metadata={}, hash='0b6d00e4b4e07e3dd0228af1fb6c4c0a54a6dc6e27200599c03d9548a6e3dc74')}, text='7. The learned trial judge had noted the evidence of B. Rai, Ballistic Expert, C.W.1 that both the injuries would have been caused by two shots. While B. Rai, Ballistic Expert, C.W.1 had given the said opinion, he had also stated in his crossexamination by the prosecution that if the assailant fired from place \\'C\\' and the person receiving pellet injury standing at place \\'B\\' would have turned around, on dispersal of pellets he could have received the pellet injuries if deceased and injured both would have stood in the same line of firing.\"\\nOUR CONCLUSIONS:\\n47.  We disagree with the High Court. Admittedly, the deceased died of a bullet injury whereas Brij Raj Singh, P.W. 2 received pellet injuries. It is well settled that a cartridge cannot contain pellet and bullet shots together. Therefore, the injuries on deceased and injured P.W. 2 clearly establish that two shots were fired from two different fire arms.\\n48.  The High Court also observed that the laymen, meaning thereby the villagers, hardly know the difference between a bullet and a pellet.\\n49. This finding has no basis, particularly in view of the statement of all the witnesses on record. Wherever the witnesses wanted to use \\'bullet\\' they have clearly used \\'Goli\\' or \\'bullet\\' and wherever they wanted to use \\'pellet\\' they have clearly used the word \\'Chharra\\' which means pellets, so to say that the witnesses did not understand the distinction between the two is without any basis or foundation.\\n50.  Mr. Sushil Kumar, learned senior advocate appearing for the appellant, submitted that the judgment of the trial court was based on the correct evaluation of the evidence and the view taken by the trial court was definitely a reasonable and plausible. Therefore, according to the settled legal position, the High Court was not justified in interfering with the judgment of the trial court.\\n51.  Shri Ratnakar Das, learned senior advocate appearing for the respondent State submitted that the impugned order of the High Court is consistent with the settled legal position. He submitted that once an order of acquittal is challenged then the appellate court has all the powers which are exercised by the trial court. We agree that the appellate court is fully empowered to re-appreciate and re-evaluate the entire evidence on record.\\n52.  We deem it appropriate to deal with some of the important cases which have been dealt with under the 1898 Code by the Privy Council and by this Court. We would like to crystallize the legal position in the hope that the appellate courts do not commit similar lapses upon dealing with future judgments of acquittal.\\n53.  The earliest case that dealt with the controversy in issue was Sheo Swarup v. King Emperor AIR 1934 Privy Council 2271934 Indlaw PC 30. In this case, the ambit and scope of the powers of the appellate court in dealing with an appeal against acquittal has been aptly elucidated by the Privy Council. Lord Russell writing the judgment has observed as under:\\n\"..the High Court should and will always give proper weight and consideration to such matters as (1) the views of the trial Judge as to the credibility of the witnesses, (2) the presumption of innocence in favour of the accused, a presumption certainly not weakened by the fact that he has been acquitted at his trial, (3) the right of the accused to the benefit of any doubt, and (4) the slowness of an appellate court in disturbing a finding of fact arrived at by a Judge who had the advantage of seeing the witnesses..\"\\n54. The law succinctly crystallized in this case has been consistently followed by this Court. On proper analysis of the ratio and findings of this case, it is revealed that the findings of the trial court are based on the fundamental principles of the criminal jurisprudence. Presumption of innocence in favour of the accused further gets reinforced and strengthened by the acquittal of the trial court. The appellate court undoubtedly has wide powers of re-appreciating and reevaluating the entire evidence but it would be justified in interfering with the judgment of acquittal only when the judgment of the trial court is palpably wrong, totally illfounded or wholly misconceived, based on erroneous analysis of evidence and non-existent material, demonstrably unsustainable or perverse.\\n55.  This Court again in the case of Surajpal Singh & Others v. State, AIR 1952 SC 52 1951 Indlaw SC 23, has spelt out the powers of the High Court. The Court has also cautioned the Appellate Courts to follow well established norms while dealing with appeals from acquittal by the trial court.', start_char_idx=28112, end_char_idx=32706, text_template='{metadata_str}\\n\\n{content}', metadata_template='{key}: {value}', metadata_seperator='\\n'), TextNode(id_='2962b068-e8a8-4aa6-afd6-bf78c21c9ac4', embedding=[-0.0623547398, 8.01573624e-05, -0.0443406813, -0.0510987602, 0.0175843891, 0.0128546059, 0.0728776902, 0.012224149, -0.0204857942, -0.038084954, 0.017342817, -0.0331482217, -0.0418249592, 0.000534707622, 0.0204198, -0.0378984958, -0.00214281585, 0.0202375297, 0.00931219291, -0.0144651765, -0.0138973724, -0.0264432766, 0.0484813154, -0.0543177687, 0.0256423056, -0.01818588, 0.0375143811, -0.0219960865, -0.0161378309, -0.175771937, 0.00596430199, -0.04310067, -0.0275494289, -0.0485417321, -0.0552351028, -0.0352997407, -0.0459852293, 0.045865275, -0.0121804662, -0.040137507, -0.0494000278, 0.111904092, 0.0359596908, 0.0155812539, 0.0400276557, 0.00641096244, -0.00193210912, -0.0567329749, 0.051291652, -0.012772603, -0.0283967834, -0.0534181632, 0.0406138748, -0.0212738402, -0.00559872622, -0.0339591168, 0.0464229099, 0.0700124279, 0.00969406869, 0.0665612221, 0.0656439215, 0.0136003913, -0.169837773, 0.0196602251, 0.0317041688, -0.0473239198, -0.0115359668, -0.00481089391, 0.0700973719, 0.113794729, 0.0431553535, 0.00220863591, 0.0266788807, -0.00102534879, -0.0197599474, -0.0727285892, 0.027373, 0.0121552134, -0.0116051268, 0.0102381092, 0.0409251451, 0.0280289, -0.0182933435, -0.00604791474, -0.0714354, 0.00275954907, 0.0423496775, -0.0620129853, -0.0489209592, 0.0291704256, 0.0546756797, -0.00906796101, 0.00191951904, -0.00861453079, -0.0572801605, -0.0341131501, 0.0108369337, 0.0490335673, 0.00253875647, 0.385736853, -0.00406455761, -0.00204310496, 0.0252128169, 0.0321662575, 0.00282847392, 0.00206701783, -0.0460492559, -0.0582987927, 0.0671524629, 0.0170372594, 0.0956589058, 0.000640320417, -0.0258348621, 0.0212613139, -0.0286419503, 0.0035988139, 0.070322223, 0.029131176, -0.0393020511, 0.00407925481, -0.0679102913, -0.0673462301, -0.0474771298, -0.0531571321, -0.042076502, -0.0293104406, 0.0137364995, 0.0710313469, 0.0914338678, -0.0393399596, 0.0406089276, -0.0834013522, 0.0122972457, -0.106895909, 0.000691067951, 0.0344102494, 0.0920827463, 0.035353221, 0.0401393473, -0.0410956033, -0.0142227104, -0.0827625543, 0.00441744691, 0.0156106576, -0.0305462331, 0.092856586, -0.021155186, -0.0559075586, -0.0200829953, -0.0419489965, 0.000425029983, 0.0183388963, -0.0112818265, 0.0298134405, 0.00343345106, 0.0216789134, -0.0425555632, 0.044453226, -0.0636479184, 0.0147864204, 0.0602142252, 0.0109921191, -0.0547194667, 0.078890346, 0.0256830417, -0.0351571292, -0.0140877636, 0.0666593462, -0.0141492942, -0.0200220477, 0.0566114485, -0.0106253736, -0.0245403033, -0.036151845, -0.0228580963, -0.0133554135, -0.0189939849, -0.032668, -0.00121326582, -0.0297769383, 0.0723439753, -0.0521727167, -0.0152269071, 0.0592124388, 0.0176976118, 0.00453716, -0.0555202141, 0.00813819747, 0.0508627743, 0.105506167, -0.00928271, -0.0086724963, -0.0907754302, -0.00270218542, 0.0297101811, -0.0452127606, 0.0266963243, 0.000909514, -0.0321446508, 0.0301243328, 0.0353471562, -0.0170283541, -0.0677516386, 0.0348179601, 0.0234061778, 0.0925171524, 0.049454309, -0.0222149938, -0.0217441581, -0.0186723974, -0.0123210959, -0.0380008928, -0.00686694263, -0.0359358154, 0.0288917515, -0.0109565733, 0.0118134925, -0.00918070786, -0.0378246903, 0.0121713644, -0.0681007057, -0.0542861447, 0.0260160491, -0.310265243, -0.00617923494, -0.0376786739, -0.00453754375, -0.0133915115, 0.0233982094, -0.00542492745, 0.0328559764, 0.00836758222, -0.0183244497, 0.04605617, -0.0203362387, -0.0892923772, -0.0195153933, 0.0350367, 0.0382547975, 9.81806661e-05, 0.0133423628, -0.0223995298, 0.0540572107, 0.0200285576, 0.0424992889, -0.0666997135, 0.0430027731, 0.0633220896, -0.00259914133, 0.146043018, 0.0349194966, 0.0555307269, -0.0231679231, -0.0425498039, 0.0378035419, 0.0198500287, -0.0219895691, 0.0119241429, -0.00587545102, -0.00209221477, 0.0245314445, -0.0279920958, 0.0332124792, 0.00166727928, 0.0687886402, 0.0456514694, -0.0247591268, -0.00585396867, -0.0572099, -0.0781989396, -0.0361920483, 0.043970596, 0.0343553498, 0.0148312626, -0.0439593643, -0.0163158141, 0.0494882576, 0.013315456, -0.0570204929, -0.0801455379, 0.0309130605, -0.0270850956, -0.0196938813, -0.0399928, 0.0401767083, 0.0289083552, -0.0309862439, -0.040364854, -0.0100983325, 0.0132599594, -0.00752420537, -0.0295235086, -0.0257121194, -0.0435473435, 0.0951944515, 0.0104772728, -0.0449915864, 0.0163078513, -0.0154441092, 0.042571336, -0.00278287311, -0.0150274057, 0.00688960589, 0.05674088, -0.0189341903, 0.0755851716, 0.0209158976, -0.00159890903, -0.00348739629, -0.0171729773, -0.00668710051, 0.0492058881, -0.0416538417, -0.046427127, -0.00376439793, -0.0735970214, -0.0167312492, -0.01147673, 0.00397526473, -0.258031934, 0.0264972616, 0.0312667824, 0.0170362201, -0.050219, -0.0280357208, 0.0461457148, -0.0277007986, -0.00609195232, 0.00802849326, -0.0021408312, -0.00358691299, 0.0112924324, 0.0168434493, -0.0465124547, -0.0509877391, 0.00344990822, -0.0303117968, 0.0529947914, 0.0206442568, 0.0442298427, 0.0460687, 0.104170941, 0.0103678703, 0.0455757603, -0.0261593983, 0.029014403, -0.0332455598, -0.0797938332, 0.00850066, 0.0222951733, -0.00930244476, 0.0551815704, -0.0308137871, 0.0179571118, 0.00916906726, -0.0098626893, 0.0656468868, 0.0326968133, 0.0135154426, -0.0180709362, -0.029745562, 0.00992096681, -0.0208528545, 0.10223791, -0.00446847593, 0.0418311656, -0.0214371439, 0.0355777331, -0.0270190053, 0.0273675025, -0.0150885, 0.0429650098, -0.0122222975, 0.0243550669, -0.00884817075, 0.0402557, -0.0116021093, 0.0205028933, 0.024563238, 0.00347895455, 0.0257541221, 0.0102654919, 0.0530225821, 0.101374745], metadata={'file_path': '/home/gaurang/DSAC/RAG-legal-data/../data/AILA_3_docs/C6.txt', 'file_name': '/home/gaurang/DSAC/RAG-legal-data/../data/AILA_3_docs/C6.txt', 'file_type': 'text/plain', 'file_size': 67324, 'creation_date': '2024-03-08', 'last_modified_date': '2020-05-19'}, excluded_embed_metadata_keys=['file_name', 'file_type', 'file_size', 'creation_date', 'last_modified_date', 'last_accessed_date'], excluded_llm_metadata_keys=['file_name', 'file_type', 'file_size', 'creation_date', 'last_modified_date', 'last_accessed_date'], relationships={<NodeRelationship.SOURCE: '1'>: RelatedNodeInfo(node_id='7857e228-2367-40ef-a46d-02335f5cb17e', node_type=<ObjectType.DOCUMENT: '4'>, metadata={'file_path': '/home/gaurang/DSAC/RAG-legal-data/../data/AILA_3_docs/C6.txt', 'file_name': '/home/gaurang/DSAC/RAG-legal-data/../data/AILA_3_docs/C6.txt', 'file_type': 'text/plain', 'file_size': 67324, 'creation_date': '2024-03-08', 'last_modified_date': '2020-05-19'}, hash='e64845f1eba871e55bcf98b75f8384cc7223e9f63da96db4c251a018f9cf0c57'), <NodeRelationship.PREVIOUS: '2'>: RelatedNodeInfo(node_id='14834c4a-6948-485b-b211-d0687810f7a8', node_type=<ObjectType.TEXT: '1'>, metadata={'file_path': '/home/gaurang/DSAC/RAG-legal-data/../data/AILA_3_docs/C6.txt', 'file_name': '/home/gaurang/DSAC/RAG-legal-data/../data/AILA_3_docs/C6.txt', 'file_type': 'text/plain', 'file_size': 67324, 'creation_date': '2024-03-08', 'last_modified_date': '2020-05-19'}, hash='f4ac9ca8fc698de2ef9a5eeedb4914ef26aa731cc1d55d154ecc604ed60200c9'), <NodeRelationship.NEXT: '3'>: RelatedNodeInfo(node_id='c7b92db3-f797-4a9e-9d18-9d517bc27ef0', node_type=<ObjectType.TEXT: '1'>, metadata={}, hash='d7620ff4b220f80f1a574e4fc6b7d74fba67abf015c748e7278075fecad827c7')}, text='below the right ear. In this way, the trial court reasoned that the barrel of the gun, when discharging, was slanting vertical. The mouth of the barrel was upward and its butt downward. The barrel and the butt were not horizontal to the ground at that time.\\n25.  The trial court observed that injury no. 1 (wound of entry) on Brij Raj Singh P.W.2 was on the right side of his back 10 cm. away from the mid line, 9 cms. below the lower border of scapula. Injury no. 2 (wound of exit) was on the right side of his back 8 cm. away and lateral from injury no.1. This means that the exit wound was by the side of the entry wound at a distance of 8 cm.\\n26.  The dictionary meaning of \\'lateral\\' is \"by the side\" and this means that the two injuries caused by pellets to Brij Raj Singh P.W.2 were horizontal and not vertical. The trial court opined that the single shot could not have caused vertical injury to one person and horizontal injury to another. It found it doubtful and not sufficiently proved that the same shot could have injured Brij Raj Singh and killed the deceased.\\n27.  This conclusion is further fortified by the report of the Ballistic Expert Sri B. Rai court witness No.1. He has given a definite opinion after making actual experiments by firing shots. This was done from the distance at which the occurrence was said to have taken place. The eye-witnesses had testified to this distance. The Ballistic Expert opined that the injuries to Brij Raj Singh P.W.2 were from a different shot from the one that killed the deceased.\\n28.  The relevant part of the evidence of the Ballistic Expert reads as under:\\n\"2. QuestionWhether bullet and Chharras both be used in 12 bore gun or not? Ans.12 bore gun have no bullet. It has small chharas, big chharas or one single ball shot with diameter about 0645.\"\\n29.  The Ballistic Expert after studying the post-mortem report observed as under:\\n\"Studying the Post Mortem report No. 51/79 of deceased Ghurey Lal and injury report of Brijraj Singh dated 14.3.79, statement of doctor and witnesses and site plan and keeping the result of above experiments in mind, I reached in conclusion that injury No. 1 and 2 possible to sustain to deceased Ghurey Lal by this gun from the distance of 10 feet and injury No. 1 and 2 of injured Brij Raj Singh seems to sustain by some other shot.\"\\n30.  The Ballistic Expert categorically stated that in cartridges of standard 12 bore shot guns, bullets from other rifles cannot be used with small and big chharas (pellets). Therefore, the trial court concluded that both the injuries were not possible by a single firearm.\\n31.  Leading experts of forensic science, particularly ballistic experts, do not indicate that from a single cartridge both bullets and pellets can be fired. Professor Apurba Nandy in his book \"Principles of Forensic Medicine\", first published in 1995 and reprinted in 2001, discussed cartridges. Professor Nandy mentioned that in some cases, instead of multiple pellets, a single shot or metallic ball, usually made of lead, is used. We note that the discussion regarding cartridges exclusively mentions pellets. No mention of bullets and pellets in cartridges is found in the numerous volumes of scholarly literature that we have consulted. Relevant discussion reads as under:\\n\"The Cartridges (the ammunitions)The cartridge of a shotgun and the cartridge of a rifled weapon are essentially different in their makes.\\nThe cartridge of a shot gun (Fig. 10.69) The cartridge of a shotgun has the following parts and contents-\\n1. The cartridge case The longer anterior part of the cartridge case is made of card board.\\nThe posterior part and the posterior surface is made of brass. The margin of the breach end of the cartridge case is rimmed, so that, the cartridge can be properly placed inside the chamber and with pressure on the rim the empty cartridge case can be easily ejected out of the chamber. The anterior margin of the cartridge case is twisted inward to keep the pellets and other materials inside the case compact. The anterior part of the cartridge case is made of cardboard, for which, with production of gas inside the cartridge case it can slightly expand so that, the twisted grip by the anterior margin will be released and the pellets can come out of the case.', start_char_idx=9891, end_char_idx=14175, text_template='{metadata_str}\\n\\n{content}', metadata_template='{key}: {value}', metadata_seperator='\\n'), TextNode(id_='14834c4a-6948-485b-b211-d0687810f7a8', embedding=[-0.0800371096, 0.0333087444, -0.0487083234, -0.0161242839, 0.0643034, -0.00698543107, 0.103572853, 0.0212158617, -0.0476017743, -0.0440652594, 0.0244328622, -0.0583872385, -0.0423821248, 0.0221042167, 0.0213758089, -0.000656459772, 0.0461625345, -0.0522459298, -0.0198235698, -0.0114407372, -0.00776811922, -0.0189165082, 0.0144378701, -0.025922399, 0.00479498459, -0.0322038718, 0.065438509, -0.0421981812, -0.025065789, -0.164322659, 0.00201254943, -0.0674566776, -0.000605644484, -0.0384074, -0.0523049384, -0.0299677383, -0.0166286621, 0.0774648488, -0.01787192, -0.0321442969, -0.0378858969, 0.0681685507, 0.0688690841, 0.0204118919, 0.015665777, 0.0240121093, 0.0226483569, -0.0592161454, 0.0830486342, -0.0110454699, -0.0340709165, -0.0496577211, 0.0362520106, -0.0113825081, -0.0255071409, -0.0900544897, 0.0422610976, 0.0453075469, 0.0651624799, 0.0779809207, 0.054385744, 0.0373648889, -0.169991925, 0.0501531959, 0.043241445, 0.0072340332, -0.0421920121, -0.023882864, 0.0828469321, 0.06563209, -0.00982642733, 0.0448826253, 0.0413995795, -0.0121355271, -0.0582392924, -0.0438476242, 0.0390182808, 0.0816430748, -0.0314085186, 0.0376577899, -0.0107971486, 0.0497064255, 0.00833028, 0.00435971562, -0.0767789111, -0.0715042129, -0.00148804486, -0.0505158566, -0.0327260122, -9.25554559e-06, 0.0869759917, 0.00150080188, -0.0259183533, -0.0273846835, -0.0163138565, -0.020636417, -0.0507748574, 0.0396732, -0.0196564421, 0.371901602, -0.0190519243, 0.000197892427, 0.0151020186, 0.0671092719, -0.0392495841, 0.00869546272, -0.0218582563, -0.0178062897, 0.0367838889, 0.0329467654, 0.088540338, 0.057634145, -0.0393534154, 0.0351196453, -0.0415738299, 0.0501784682, 0.0923559591, -0.0292820577, -0.0423308425, 0.0199431404, 0.00444991281, -0.0486970767, -0.00732630957, -0.0729680955, -0.0118181603, -0.039794188, 0.00756214233, 0.109895624, 0.0477138944, -0.0236295741, 0.00653700158, -0.100909606, -0.0328491218, -0.0936248675, 0.034131676, 0.033471629, 0.073891975, 0.0293188021, 0.033900518, -0.0636775494, -0.0080262851, -0.058447957, -0.0142619302, 0.00366096548, -0.0511543714, 0.0504870266, -0.0310983472, -0.0869125798, -0.0299426969, -0.029838698, -0.0208780412, 0.0120519185, -0.0394931175, 0.0214616396, -0.00941935461, 0.0299654827, 0.0339158326, -0.0104900086, -0.04330872, 0.0258430373, 0.0844490379, 0.00734573277, -0.00574575271, 0.0839947388, 0.0110631408, 0.0176685862, -0.00476534152, 0.00731374696, 0.0152423512, -0.0113519551, 0.035156697, 0.0547864065, -0.0234019719, -0.0655964538, -0.0574214309, 0.0212944765, 0.0460279137, 0.0275882147, 0.053039819, 0.021115588, 0.0183980502, -0.00776906218, 0.0186766237, 0.0840240493, 0.00670422893, -0.0577299297, -0.0396311767, 0.0248810668, 0.0377362035, 0.0898299739, -0.0315337554, 0.0481092818, -0.0497010574, 0.0274657644, 0.00387940672, -0.0552018583, -0.00210594572, -0.000509597536, -0.0714209527, -0.00306927646, 0.0510156378, -0.0260179918, -0.0538278744, 0.0534508042, 0.0269165691, 0.0501208678, 0.00557301426, 0.00357370754, -0.0418789499, 0.0124855759, -0.0296243578, -0.0366101526, -0.0623073205, -0.0113690449, -0.0232366379, -0.0392605029, -0.0191668291, 0.0110261794, -0.0102669895, -0.000509557, -0.0539379045, -0.0326876715, 0.0642857105, -0.292859495, -0.0452217683, -0.0364918634, -0.0246442277, 0.0269761, -0.0171866342, 0.0286983177, 0.0219231099, -0.026693821, 0.00972948689, 0.00930471, 0.00208924478, 0.0127990972, 0.00289403, 0.0505518094, 0.0436162315, 0.0392733477, -0.0303387288, -0.0210019927, 0.00184050226, 0.0184190609, 0.00425339956, -0.0127604576, 0.0115521718, 0.0637666583, 0.0245036706, 0.141314313, 0.0727837235, 0.00695729, -0.0208156444, -0.0480143875, 0.0315524153, -0.010574894, -0.0831929222, -0.00654229801, -0.0126627432, -0.0430785418, 0.069243364, -0.0264659729, 0.0658980832, -0.0274241, 0.0186801199, 0.00490085781, -0.0141695524, -0.00991217233, -0.00791668892, -0.0453609414, -0.0361279249, 0.0360863134, 0.0408485383, 0.0143901557, -0.0369910784, -0.0219911374, 0.0431724899, -0.0111473463, -0.0500112735, -0.0413093157, 0.0122914072, -0.0379534215, -0.0300263744, -0.0311825927, 0.0105278557, 0.0479211919, -0.0482305102, -0.000625809, -0.0197884757, 0.0467554592, 0.0269488934, -0.0486760661, -0.0162409153, -0.00718988385, 0.0806948468, -0.010365773, -0.0630641878, 0.0521016605, 0.053612873, 0.0477609895, -0.030302994, -0.031562347, 0.0140037118, 0.030212665, 0.032506261, 0.0423284, 0.0120487716, -0.0176278409, 0.0470937975, -0.00344998389, 0.0350105, 0.0109118419, 0.0205622967, -0.0473501459, -0.0289206207, -0.0848303363, -0.0269541945, 0.00162158872, -0.0130512919, -0.256491363, 0.0182623789, -0.0309706852, 0.017127255, 0.0145363556, -0.0502536632, 0.00602039648, -0.0201687608, -0.0201881118, 0.0263707321, 0.0504431799, -0.0249774531, 0.00881403871, -0.0033773717, 0.0132047823, -0.0044547529, -0.0415007249, -0.0272710249, 0.0263560768, -0.00879531167, 0.007318886, 0.0153117869, 0.113368951, -0.0150842182, -0.00583578227, 0.0242081843, 0.026338337, 0.0185387544, -0.0340783559, -0.0143531403, 0.0366672873, -0.0656862408, 0.0554765128, -0.0392122827, 0.000937269826, -0.00188451156, 0.0193250831, 0.0743823722, 0.0071825441, 0.00482891174, -0.0511703528, -0.0486125611, -0.0372541957, -0.0434486568, 0.095818162, 0.0424060076, -0.0261476394, -0.0633995458, -0.0273130592, -0.00397349754, 0.00471061235, -0.0428891852, 0.0331466161, -0.0537115447, 0.0390417241, 0.0210902598, 0.0474491343, 0.00962749775, 0.0400562845, 0.0133489417, 0.00323826331, 0.0709634, 0.0105082849, 0.0907347053, 0.0121480823], metadata={'file_path': '/home/gaurang/DSAC/RAG-legal-data/../data/AILA_3_docs/C6.txt', 'file_name': '/home/gaurang/DSAC/RAG-legal-data/../data/AILA_3_docs/C6.txt', 'file_type': 'text/plain', 'file_size': 67324, 'creation_date': '2024-03-08', 'last_modified_date': '2020-05-19'}, excluded_embed_metadata_keys=['file_name', 'file_type', 'file_size', 'creation_date', 'last_modified_date', 'last_accessed_date'], excluded_llm_metadata_keys=['file_name', 'file_type', 'file_size', 'creation_date', 'last_modified_date', 'last_accessed_date'], relationships={<NodeRelationship.SOURCE: '1'>: RelatedNodeInfo(node_id='7857e228-2367-40ef-a46d-02335f5cb17e', node_type=<ObjectType.DOCUMENT: '4'>, metadata={'file_path': '/home/gaurang/DSAC/RAG-legal-data/../data/AILA_3_docs/C6.txt', 'file_name': '/home/gaurang/DSAC/RAG-legal-data/../data/AILA_3_docs/C6.txt', 'file_type': 'text/plain', 'file_size': 67324, 'creation_date': '2024-03-08', 'last_modified_date': '2020-05-19'}, hash='e64845f1eba871e55bcf98b75f8384cc7223e9f63da96db4c251a018f9cf0c57'), <NodeRelationship.PREVIOUS: '2'>: RelatedNodeInfo(node_id='ea33a97f-13db-4ed3-a67c-f9aa05ed1590', node_type=<ObjectType.TEXT: '1'>, metadata={'file_path': '/home/gaurang/DSAC/RAG-legal-data/../data/AILA_3_docs/C6.txt', 'file_name': '/home/gaurang/DSAC/RAG-legal-data/../data/AILA_3_docs/C6.txt', 'file_type': 'text/plain', 'file_size': 67324, 'creation_date': '2024-03-08', 'last_modified_date': '2020-05-19'}, hash='8f8e7b289e7ebbb5d5fd34e0af3a7aeb965f15795033817c3a1eaa67f95422bf'), <NodeRelationship.NEXT: '3'>: RelatedNodeInfo(node_id='2962b068-e8a8-4aa6-afd6-bf78c21c9ac4', node_type=<ObjectType.TEXT: '1'>, metadata={}, hash='a3f2e0cbba700f30f60b0419034f09c1da095705f60c4aa3a557b446323b592c')}, text='Ka 3. Dr. Ram Kumar Gupta P.W. 5, who had conducted autopsy on the dead body of the deceased, was also examined. On internal examination, he found semi digested food material in the small intestine and there was faecal matter present in the large intestines. He prepared the post-mortem report Ex. Ka-5. In his opinion, the death of the deceased had taken place around 4 p.m. on 14.3.79 on account of the said injuries and shock.\\n19.  The accused was charged with killing the deceased u/s. 302 of the Indian Penal Code (For short, IPC) and with causing simple injuries to the injured u/s. 323 IPC. He was also charged with attempting to murder Brij Raj u/s. 307 IPC. The accused appellant denied the charges, pleaded not guilty and asked to be tried.\\n20.  The crucial question which arose for consideration was whether the injuries caused to Brij Raj Singh P.W.2 could have been caused by the same shot that killed the deceased. If that was possible, the prosecution version became probable. But if the shot that killed the deceased and the shot that caused injuries to Brij Raj Singh were from different weapons, then the defence version was more probable. Shri B. Rai, Ballistic Expert, Forensic Science Laboratory, U.P. was called as court witness No.1. He was asked to explain the nature of the 12 bore cartridges and give an opinion, for which he wanted time to carry out experiments in the laboratory.\\n21. The gun was given to him and he performed a test in his laboratory in the light of the statements of the eye-witnesses, medical report and site-plan. He submitted his report, Ex. CKa.1, wherein he clearly opined that injuries Nos. 1 and 2 of the deceased were possible by the gun Ex.3 of the accused and injuries Nos.1 and 2 of the injured Brij Raj Singh were possible by another fire. By \"fire\", it is clear from the record that the Ballistic Expert was referring to a \"firearm\".\\n22.  Ultimately, we must answer the following question: Whether the prosecution story of a single shot causing injury to two persons, that is bullet injury to deceased and pellet injury to Brij Raj Singh, with the accused as the aggressor, stands sufficiently proved beyond reasonable doubt?\\n17. In order to decide whether a single shot was fired or in fact two different shots were fired, we must carefully examine the versions of the prosecution and the defence and the report of the Ballistic Expert. According to the trial court, the medical evidence coupled with the Ballistic Expert report revealed the existence of two fires from two weapons and as such was inconsistent with the prosecution story. The trial court further provided that it is difficult to separate falsehood from the truth, as some material aspects of the occurrence appeared to have been deliberately withheld. \"One has to separate the chaff from the grain and it is difficult to lay hand upon what part of the prosecution evidence is true and what part is untrue\". According to the accused, the trial court had taken a reasonable and possible view of the entire evidence on record.\\n23.  The post-mortem report Ex. Ka-5, photo lash Ex. Ka-7 and the statement of Dr. Ram Kumar Gupta P.W.5 indicate that the wound of entry was on the right side of the neck 2 cm. lateral middle line on front aspect.\\n24. The exit wound was on the right side back of neck 5 cm. below the right ear. This means that the bullet had entered from the front side of the neck from a distance of 2 cm. lateral to middle line, and it had come out from the back of the neck at a place 5 cm. below the right ear. In this way, the trial court reasoned that the barrel of the gun, when discharging, was slanting vertical. The mouth of the barrel was upward and its butt downward. The barrel and the butt were not horizontal to the ground at that time.\\n25.  The trial court observed that injury no. 1 (wound of entry) on Brij Raj Singh P.W.2 was on the right side of his back 10 cm. away from the mid line, 9 cms. below the lower border of scapula. Injury no. 2 (wound of exit) was on the right side of his back 8 cm. away and lateral from injury no.1. This means that the exit wound was by the side of the entry wound at a distance of 8 cm.', start_char_idx=6361, end_char_idx=10537, text_template='{metadata_str}\\n\\n{content}', metadata_template='{key}: {value}', metadata_seperator='\\n')], similarities=[0.763428032, 0.741102755, 0.737757683], ids=['a5995c60-1adb-4a0b-9eb2-67748493357f', '2962b068-e8a8-4aa6-afd6-bf78c21c9ac4', '14834c4a-6948-485b-b211-d0687810f7a8'])"
      ]
     },
     "execution_count": 15,
     "metadata": {},
     "output_type": "execute_result"
    }
   ],
   "source": [
    "# returns a VectorStoreQueryResult\n",
    "query_result = vector_store.query(vector_store_query)\n",
    "query_result"
   ]
  },
  {
   "cell_type": "code",
   "execution_count": null,
   "id": "bae97cd8",
   "metadata": {},
   "outputs": [],
   "source": []
  },
  {
   "cell_type": "code",
   "execution_count": null,
   "id": "c800d67e",
   "metadata": {},
   "outputs": [],
   "source": []
  },
  {
   "cell_type": "markdown",
   "id": "25e78431",
   "metadata": {},
   "source": [
    "# To delete the index (don't run if all docs are already indexed)"
   ]
  },
  {
   "cell_type": "code",
   "execution_count": 16,
   "id": "e780e2dd",
   "metadata": {},
   "outputs": [],
   "source": [
    "pc.delete_index('judgments')"
   ]
  },
  {
   "cell_type": "code",
   "execution_count": null,
   "id": "892155a9",
   "metadata": {},
   "outputs": [],
   "source": []
  }
 ],
 "metadata": {
  "kernelspec": {
   "display_name": "Python 3 (ipykernel)",
   "language": "python",
   "name": "python3"
  },
  "language_info": {
   "codemirror_mode": {
    "name": "ipython",
    "version": 3
   },
   "file_extension": ".py",
   "mimetype": "text/x-python",
   "name": "python",
   "nbconvert_exporter": "python",
   "pygments_lexer": "ipython3",
   "version": "3.11.3"
  }
 },
 "nbformat": 4,
 "nbformat_minor": 5
}
